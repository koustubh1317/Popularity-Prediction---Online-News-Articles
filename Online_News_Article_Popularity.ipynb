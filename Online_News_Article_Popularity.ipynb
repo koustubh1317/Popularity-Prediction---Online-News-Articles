{
  "cells": [
    {
      "cell_type": "markdown",
      "metadata": {
        "id": "aRVV1c9TAIUG"
      },
      "source": [
        "# Predicting the Popularity of Online News Articles using Random Forest Model"
      ]
    },
    {
      "cell_type": "code",
      "source": [
        "# Mounting the Google Drive to fetch the News Article Statistics' Dataset from it\n",
        "from google.colab import drive\n",
        "drive.mount('/content/drive', force_remount=True)"
      ],
      "metadata": {
        "colab": {
          "base_uri": "https://localhost:8080/"
        },
        "id": "ra79jw9_AmT9",
        "outputId": "03a28714-b098-4caf-bb27-a9544669c418"
      },
      "execution_count": null,
      "outputs": [
        {
          "output_type": "stream",
          "name": "stdout",
          "text": [
            "Mounted at /content/drive\n"
          ]
        }
      ]
    },
    {
      "cell_type": "code",
      "execution_count": null,
      "metadata": {
        "id": "X6_IIejhAIUK"
      },
      "outputs": [],
      "source": [
        "# Importing required packages and libraries for Data Assessment\n",
        "import numpy as np\n",
        "import pandas as pd\n",
        "import matplotlib.pyplot as plt\n",
        "import seaborn as sb\n",
        "import statsmodels.api as sm\n",
        "\n",
        "# Improting the required libraries for Model Training Tasks\n",
        "from sklearn import preprocessing\n",
        "from sklearn.model_selection import train_test_split\n",
        "from sklearn.preprocessing import StandardScaler\n",
        "from sklearn.ensemble import RandomForestClassifier\n",
        "from sklearn import metrics\n",
        "\n",
        "%matplotlib inline\n",
        "\n",
        "# Code segment to suppress the Warnings on Final output\n",
        "import warnings\n",
        "warnings.simplefilter(\"ignore\")"
      ]
    },
    {
      "cell_type": "code",
      "execution_count": null,
      "metadata": {
        "id": "TbaSvfPBAIUN",
        "colab": {
          "base_uri": "https://localhost:8080/",
          "height": 508
        },
        "outputId": "492ab342-cb47-4fd0-e204-63c424e25099"
      },
      "outputs": [
        {
          "output_type": "execute_result",
          "data": {
            "text/plain": [
              "                                                 url  timedelta  \\\n",
              "0  http://mashable.com/2013/01/07/amazon-instant-...      731.0   \n",
              "1  http://mashable.com/2013/01/07/ap-samsung-spon...      731.0   \n",
              "2  http://mashable.com/2013/01/07/apple-40-billio...      731.0   \n",
              "3  http://mashable.com/2013/01/07/astronaut-notre...      731.0   \n",
              "4   http://mashable.com/2013/01/07/att-u-verse-apps/      731.0   \n",
              "\n",
              "   n_tokens_title  n_tokens_content  n_unique_tokens  n_non_stop_words  \\\n",
              "0            12.0             219.0         0.663594               1.0   \n",
              "1             9.0             255.0         0.604743               1.0   \n",
              "2             9.0             211.0         0.575130               1.0   \n",
              "3             9.0             531.0         0.503788               1.0   \n",
              "4            13.0            1072.0         0.415646               1.0   \n",
              "\n",
              "   n_non_stop_unique_tokens  num_hrefs  num_self_hrefs  num_imgs  ...  \\\n",
              "0                  0.815385        4.0             2.0       1.0  ...   \n",
              "1                  0.791946        3.0             1.0       1.0  ...   \n",
              "2                  0.663866        3.0             1.0       1.0  ...   \n",
              "3                  0.665635        9.0             0.0       1.0  ...   \n",
              "4                  0.540890       19.0            19.0      20.0  ...   \n",
              "\n",
              "   min_positive_polarity  max_positive_polarity  avg_negative_polarity  \\\n",
              "0               0.100000                    0.7              -0.350000   \n",
              "1               0.033333                    0.7              -0.118750   \n",
              "2               0.100000                    1.0              -0.466667   \n",
              "3               0.136364                    0.8              -0.369697   \n",
              "4               0.033333                    1.0              -0.220192   \n",
              "\n",
              "   min_negative_polarity  max_negative_polarity  title_subjectivity  \\\n",
              "0                 -0.600              -0.200000            0.500000   \n",
              "1                 -0.125              -0.100000            0.000000   \n",
              "2                 -0.800              -0.133333            0.000000   \n",
              "3                 -0.600              -0.166667            0.000000   \n",
              "4                 -0.500              -0.050000            0.454545   \n",
              "\n",
              "   title_sentiment_polarity  abs_title_subjectivity  \\\n",
              "0                 -0.187500                0.000000   \n",
              "1                  0.000000                0.500000   \n",
              "2                  0.000000                0.500000   \n",
              "3                  0.000000                0.500000   \n",
              "4                  0.136364                0.045455   \n",
              "\n",
              "   abs_title_sentiment_polarity  shares  \n",
              "0                      0.187500     593  \n",
              "1                      0.000000     711  \n",
              "2                      0.000000    1500  \n",
              "3                      0.000000    1200  \n",
              "4                      0.136364     505  \n",
              "\n",
              "[5 rows x 61 columns]"
            ],
            "text/html": [
              "\n",
              "  <div id=\"df-de28cf3b-fe94-47d5-a6a0-4f017133202c\">\n",
              "    <div class=\"colab-df-container\">\n",
              "      <div>\n",
              "<style scoped>\n",
              "    .dataframe tbody tr th:only-of-type {\n",
              "        vertical-align: middle;\n",
              "    }\n",
              "\n",
              "    .dataframe tbody tr th {\n",
              "        vertical-align: top;\n",
              "    }\n",
              "\n",
              "    .dataframe thead th {\n",
              "        text-align: right;\n",
              "    }\n",
              "</style>\n",
              "<table border=\"1\" class=\"dataframe\">\n",
              "  <thead>\n",
              "    <tr style=\"text-align: right;\">\n",
              "      <th></th>\n",
              "      <th>url</th>\n",
              "      <th>timedelta</th>\n",
              "      <th>n_tokens_title</th>\n",
              "      <th>n_tokens_content</th>\n",
              "      <th>n_unique_tokens</th>\n",
              "      <th>n_non_stop_words</th>\n",
              "      <th>n_non_stop_unique_tokens</th>\n",
              "      <th>num_hrefs</th>\n",
              "      <th>num_self_hrefs</th>\n",
              "      <th>num_imgs</th>\n",
              "      <th>...</th>\n",
              "      <th>min_positive_polarity</th>\n",
              "      <th>max_positive_polarity</th>\n",
              "      <th>avg_negative_polarity</th>\n",
              "      <th>min_negative_polarity</th>\n",
              "      <th>max_negative_polarity</th>\n",
              "      <th>title_subjectivity</th>\n",
              "      <th>title_sentiment_polarity</th>\n",
              "      <th>abs_title_subjectivity</th>\n",
              "      <th>abs_title_sentiment_polarity</th>\n",
              "      <th>shares</th>\n",
              "    </tr>\n",
              "  </thead>\n",
              "  <tbody>\n",
              "    <tr>\n",
              "      <th>0</th>\n",
              "      <td>http://mashable.com/2013/01/07/amazon-instant-...</td>\n",
              "      <td>731.0</td>\n",
              "      <td>12.0</td>\n",
              "      <td>219.0</td>\n",
              "      <td>0.663594</td>\n",
              "      <td>1.0</td>\n",
              "      <td>0.815385</td>\n",
              "      <td>4.0</td>\n",
              "      <td>2.0</td>\n",
              "      <td>1.0</td>\n",
              "      <td>...</td>\n",
              "      <td>0.100000</td>\n",
              "      <td>0.7</td>\n",
              "      <td>-0.350000</td>\n",
              "      <td>-0.600</td>\n",
              "      <td>-0.200000</td>\n",
              "      <td>0.500000</td>\n",
              "      <td>-0.187500</td>\n",
              "      <td>0.000000</td>\n",
              "      <td>0.187500</td>\n",
              "      <td>593</td>\n",
              "    </tr>\n",
              "    <tr>\n",
              "      <th>1</th>\n",
              "      <td>http://mashable.com/2013/01/07/ap-samsung-spon...</td>\n",
              "      <td>731.0</td>\n",
              "      <td>9.0</td>\n",
              "      <td>255.0</td>\n",
              "      <td>0.604743</td>\n",
              "      <td>1.0</td>\n",
              "      <td>0.791946</td>\n",
              "      <td>3.0</td>\n",
              "      <td>1.0</td>\n",
              "      <td>1.0</td>\n",
              "      <td>...</td>\n",
              "      <td>0.033333</td>\n",
              "      <td>0.7</td>\n",
              "      <td>-0.118750</td>\n",
              "      <td>-0.125</td>\n",
              "      <td>-0.100000</td>\n",
              "      <td>0.000000</td>\n",
              "      <td>0.000000</td>\n",
              "      <td>0.500000</td>\n",
              "      <td>0.000000</td>\n",
              "      <td>711</td>\n",
              "    </tr>\n",
              "    <tr>\n",
              "      <th>2</th>\n",
              "      <td>http://mashable.com/2013/01/07/apple-40-billio...</td>\n",
              "      <td>731.0</td>\n",
              "      <td>9.0</td>\n",
              "      <td>211.0</td>\n",
              "      <td>0.575130</td>\n",
              "      <td>1.0</td>\n",
              "      <td>0.663866</td>\n",
              "      <td>3.0</td>\n",
              "      <td>1.0</td>\n",
              "      <td>1.0</td>\n",
              "      <td>...</td>\n",
              "      <td>0.100000</td>\n",
              "      <td>1.0</td>\n",
              "      <td>-0.466667</td>\n",
              "      <td>-0.800</td>\n",
              "      <td>-0.133333</td>\n",
              "      <td>0.000000</td>\n",
              "      <td>0.000000</td>\n",
              "      <td>0.500000</td>\n",
              "      <td>0.000000</td>\n",
              "      <td>1500</td>\n",
              "    </tr>\n",
              "    <tr>\n",
              "      <th>3</th>\n",
              "      <td>http://mashable.com/2013/01/07/astronaut-notre...</td>\n",
              "      <td>731.0</td>\n",
              "      <td>9.0</td>\n",
              "      <td>531.0</td>\n",
              "      <td>0.503788</td>\n",
              "      <td>1.0</td>\n",
              "      <td>0.665635</td>\n",
              "      <td>9.0</td>\n",
              "      <td>0.0</td>\n",
              "      <td>1.0</td>\n",
              "      <td>...</td>\n",
              "      <td>0.136364</td>\n",
              "      <td>0.8</td>\n",
              "      <td>-0.369697</td>\n",
              "      <td>-0.600</td>\n",
              "      <td>-0.166667</td>\n",
              "      <td>0.000000</td>\n",
              "      <td>0.000000</td>\n",
              "      <td>0.500000</td>\n",
              "      <td>0.000000</td>\n",
              "      <td>1200</td>\n",
              "    </tr>\n",
              "    <tr>\n",
              "      <th>4</th>\n",
              "      <td>http://mashable.com/2013/01/07/att-u-verse-apps/</td>\n",
              "      <td>731.0</td>\n",
              "      <td>13.0</td>\n",
              "      <td>1072.0</td>\n",
              "      <td>0.415646</td>\n",
              "      <td>1.0</td>\n",
              "      <td>0.540890</td>\n",
              "      <td>19.0</td>\n",
              "      <td>19.0</td>\n",
              "      <td>20.0</td>\n",
              "      <td>...</td>\n",
              "      <td>0.033333</td>\n",
              "      <td>1.0</td>\n",
              "      <td>-0.220192</td>\n",
              "      <td>-0.500</td>\n",
              "      <td>-0.050000</td>\n",
              "      <td>0.454545</td>\n",
              "      <td>0.136364</td>\n",
              "      <td>0.045455</td>\n",
              "      <td>0.136364</td>\n",
              "      <td>505</td>\n",
              "    </tr>\n",
              "  </tbody>\n",
              "</table>\n",
              "<p>5 rows × 61 columns</p>\n",
              "</div>\n",
              "      <button class=\"colab-df-convert\" onclick=\"convertToInteractive('df-de28cf3b-fe94-47d5-a6a0-4f017133202c')\"\n",
              "              title=\"Convert this dataframe to an interactive table.\"\n",
              "              style=\"display:none;\">\n",
              "        \n",
              "  <svg xmlns=\"http://www.w3.org/2000/svg\" height=\"24px\"viewBox=\"0 0 24 24\"\n",
              "       width=\"24px\">\n",
              "    <path d=\"M0 0h24v24H0V0z\" fill=\"none\"/>\n",
              "    <path d=\"M18.56 5.44l.94 2.06.94-2.06 2.06-.94-2.06-.94-.94-2.06-.94 2.06-2.06.94zm-11 1L8.5 8.5l.94-2.06 2.06-.94-2.06-.94L8.5 2.5l-.94 2.06-2.06.94zm10 10l.94 2.06.94-2.06 2.06-.94-2.06-.94-.94-2.06-.94 2.06-2.06.94z\"/><path d=\"M17.41 7.96l-1.37-1.37c-.4-.4-.92-.59-1.43-.59-.52 0-1.04.2-1.43.59L10.3 9.45l-7.72 7.72c-.78.78-.78 2.05 0 2.83L4 21.41c.39.39.9.59 1.41.59.51 0 1.02-.2 1.41-.59l7.78-7.78 2.81-2.81c.8-.78.8-2.07 0-2.86zM5.41 20L4 18.59l7.72-7.72 1.47 1.35L5.41 20z\"/>\n",
              "  </svg>\n",
              "      </button>\n",
              "      \n",
              "  <style>\n",
              "    .colab-df-container {\n",
              "      display:flex;\n",
              "      flex-wrap:wrap;\n",
              "      gap: 12px;\n",
              "    }\n",
              "\n",
              "    .colab-df-convert {\n",
              "      background-color: #E8F0FE;\n",
              "      border: none;\n",
              "      border-radius: 50%;\n",
              "      cursor: pointer;\n",
              "      display: none;\n",
              "      fill: #1967D2;\n",
              "      height: 32px;\n",
              "      padding: 0 0 0 0;\n",
              "      width: 32px;\n",
              "    }\n",
              "\n",
              "    .colab-df-convert:hover {\n",
              "      background-color: #E2EBFA;\n",
              "      box-shadow: 0px 1px 2px rgba(60, 64, 67, 0.3), 0px 1px 3px 1px rgba(60, 64, 67, 0.15);\n",
              "      fill: #174EA6;\n",
              "    }\n",
              "\n",
              "    [theme=dark] .colab-df-convert {\n",
              "      background-color: #3B4455;\n",
              "      fill: #D2E3FC;\n",
              "    }\n",
              "\n",
              "    [theme=dark] .colab-df-convert:hover {\n",
              "      background-color: #434B5C;\n",
              "      box-shadow: 0px 1px 3px 1px rgba(0, 0, 0, 0.15);\n",
              "      filter: drop-shadow(0px 1px 2px rgba(0, 0, 0, 0.3));\n",
              "      fill: #FFFFFF;\n",
              "    }\n",
              "  </style>\n",
              "\n",
              "      <script>\n",
              "        const buttonEl =\n",
              "          document.querySelector('#df-de28cf3b-fe94-47d5-a6a0-4f017133202c button.colab-df-convert');\n",
              "        buttonEl.style.display =\n",
              "          google.colab.kernel.accessAllowed ? 'block' : 'none';\n",
              "\n",
              "        async function convertToInteractive(key) {\n",
              "          const element = document.querySelector('#df-de28cf3b-fe94-47d5-a6a0-4f017133202c');\n",
              "          const dataTable =\n",
              "            await google.colab.kernel.invokeFunction('convertToInteractive',\n",
              "                                                     [key], {});\n",
              "          if (!dataTable) return;\n",
              "\n",
              "          const docLinkHtml = 'Like what you see? Visit the ' +\n",
              "            '<a target=\"_blank\" href=https://colab.research.google.com/notebooks/data_table.ipynb>data table notebook</a>'\n",
              "            + ' to learn more about interactive tables.';\n",
              "          element.innerHTML = '';\n",
              "          dataTable['output_type'] = 'display_data';\n",
              "          await google.colab.output.renderOutput(dataTable, element);\n",
              "          const docLink = document.createElement('div');\n",
              "          docLink.innerHTML = docLinkHtml;\n",
              "          element.appendChild(docLink);\n",
              "        }\n",
              "      </script>\n",
              "    </div>\n",
              "  </div>\n",
              "  "
            ]
          },
          "metadata": {},
          "execution_count": 3
        }
      ],
      "source": [
        "# Loading the Dataset from the Drive\n",
        "df = pd.read_csv('/content/drive/MyDrive/Online_News_Popularity.csv')\n",
        "\n",
        "# A snippet representation of the Dataset available\n",
        "df.head()"
      ]
    },
    {
      "cell_type": "code",
      "execution_count": null,
      "metadata": {
        "colab": {
          "base_uri": "https://localhost:8080/"
        },
        "id": "7nLMYvZ3AIUR",
        "outputId": "7d3b8697-b1c9-4cd9-acba-3700af046422"
      },
      "outputs": [
        {
          "output_type": "execute_result",
          "data": {
            "text/plain": [
              "(39644, 61)"
            ]
          },
          "metadata": {},
          "execution_count": 4
        }
      ],
      "source": [
        "df.shape"
      ]
    },
    {
      "cell_type": "code",
      "execution_count": null,
      "metadata": {
        "colab": {
          "base_uri": "https://localhost:8080/",
          "height": 393
        },
        "id": "axO8YeOGAIUS",
        "outputId": "e3167c8c-489a-4cee-d9b4-e42c0248d41a"
      },
      "outputs": [
        {
          "output_type": "execute_result",
          "data": {
            "text/plain": [
              "          timedelta  n_tokens_title  n_tokens_content  n_unique_tokens  \\\n",
              "count  39644.000000    39644.000000      39644.000000     39644.000000   \n",
              "mean     354.530471       10.398749        546.514731         0.548216   \n",
              "std      214.163767        2.114037        471.107508         3.520708   \n",
              "min        8.000000        2.000000          0.000000         0.000000   \n",
              "25%      164.000000        9.000000        246.000000         0.470870   \n",
              "50%      339.000000       10.000000        409.000000         0.539226   \n",
              "75%      542.000000       12.000000        716.000000         0.608696   \n",
              "max      731.000000       23.000000       8474.000000       701.000000   \n",
              "\n",
              "       n_non_stop_words  n_non_stop_unique_tokens     num_hrefs  \\\n",
              "count      39644.000000              39644.000000  39644.000000   \n",
              "mean           0.996469                  0.689175     10.883690   \n",
              "std            5.231231                  3.264816     11.332017   \n",
              "min            0.000000                  0.000000      0.000000   \n",
              "25%            1.000000                  0.625739      4.000000   \n",
              "50%            1.000000                  0.690476      8.000000   \n",
              "75%            1.000000                  0.754630     14.000000   \n",
              "max         1042.000000                650.000000    304.000000   \n",
              "\n",
              "       num_self_hrefs      num_imgs    num_videos  ...  min_positive_polarity  \\\n",
              "count    39644.000000  39644.000000  39644.000000  ...           39644.000000   \n",
              "mean         3.293638      4.544143      1.249874  ...               0.095446   \n",
              "std          3.855141      8.309434      4.107855  ...               0.071315   \n",
              "min          0.000000      0.000000      0.000000  ...               0.000000   \n",
              "25%          1.000000      1.000000      0.000000  ...               0.050000   \n",
              "50%          3.000000      1.000000      0.000000  ...               0.100000   \n",
              "75%          4.000000      4.000000      1.000000  ...               0.100000   \n",
              "max        116.000000    128.000000     91.000000  ...               1.000000   \n",
              "\n",
              "       max_positive_polarity  avg_negative_polarity  min_negative_polarity  \\\n",
              "count           39644.000000           39644.000000           39644.000000   \n",
              "mean                0.756728              -0.259524              -0.521944   \n",
              "std                 0.247786               0.127726               0.290290   \n",
              "min                 0.000000              -1.000000              -1.000000   \n",
              "25%                 0.600000              -0.328383              -0.700000   \n",
              "50%                 0.800000              -0.253333              -0.500000   \n",
              "75%                 1.000000              -0.186905              -0.300000   \n",
              "max                 1.000000               0.000000               0.000000   \n",
              "\n",
              "       max_negative_polarity  title_subjectivity  title_sentiment_polarity  \\\n",
              "count           39644.000000        39644.000000              39644.000000   \n",
              "mean               -0.107500            0.282353                  0.071425   \n",
              "std                 0.095373            0.324247                  0.265450   \n",
              "min                -1.000000            0.000000                 -1.000000   \n",
              "25%                -0.125000            0.000000                  0.000000   \n",
              "50%                -0.100000            0.150000                  0.000000   \n",
              "75%                -0.050000            0.500000                  0.150000   \n",
              "max                 0.000000            1.000000                  1.000000   \n",
              "\n",
              "       abs_title_subjectivity  abs_title_sentiment_polarity         shares  \n",
              "count            39644.000000                  39644.000000   39644.000000  \n",
              "mean                 0.341843                      0.156064    3395.380184  \n",
              "std                  0.188791                      0.226294   11626.950749  \n",
              "min                  0.000000                      0.000000       1.000000  \n",
              "25%                  0.166667                      0.000000     946.000000  \n",
              "50%                  0.500000                      0.000000    1400.000000  \n",
              "75%                  0.500000                      0.250000    2800.000000  \n",
              "max                  0.500000                      1.000000  843300.000000  \n",
              "\n",
              "[8 rows x 60 columns]"
            ],
            "text/html": [
              "\n",
              "  <div id=\"df-76efe007-91a9-4cf7-a84a-8afa33a52f49\">\n",
              "    <div class=\"colab-df-container\">\n",
              "      <div>\n",
              "<style scoped>\n",
              "    .dataframe tbody tr th:only-of-type {\n",
              "        vertical-align: middle;\n",
              "    }\n",
              "\n",
              "    .dataframe tbody tr th {\n",
              "        vertical-align: top;\n",
              "    }\n",
              "\n",
              "    .dataframe thead th {\n",
              "        text-align: right;\n",
              "    }\n",
              "</style>\n",
              "<table border=\"1\" class=\"dataframe\">\n",
              "  <thead>\n",
              "    <tr style=\"text-align: right;\">\n",
              "      <th></th>\n",
              "      <th>timedelta</th>\n",
              "      <th>n_tokens_title</th>\n",
              "      <th>n_tokens_content</th>\n",
              "      <th>n_unique_tokens</th>\n",
              "      <th>n_non_stop_words</th>\n",
              "      <th>n_non_stop_unique_tokens</th>\n",
              "      <th>num_hrefs</th>\n",
              "      <th>num_self_hrefs</th>\n",
              "      <th>num_imgs</th>\n",
              "      <th>num_videos</th>\n",
              "      <th>...</th>\n",
              "      <th>min_positive_polarity</th>\n",
              "      <th>max_positive_polarity</th>\n",
              "      <th>avg_negative_polarity</th>\n",
              "      <th>min_negative_polarity</th>\n",
              "      <th>max_negative_polarity</th>\n",
              "      <th>title_subjectivity</th>\n",
              "      <th>title_sentiment_polarity</th>\n",
              "      <th>abs_title_subjectivity</th>\n",
              "      <th>abs_title_sentiment_polarity</th>\n",
              "      <th>shares</th>\n",
              "    </tr>\n",
              "  </thead>\n",
              "  <tbody>\n",
              "    <tr>\n",
              "      <th>count</th>\n",
              "      <td>39644.000000</td>\n",
              "      <td>39644.000000</td>\n",
              "      <td>39644.000000</td>\n",
              "      <td>39644.000000</td>\n",
              "      <td>39644.000000</td>\n",
              "      <td>39644.000000</td>\n",
              "      <td>39644.000000</td>\n",
              "      <td>39644.000000</td>\n",
              "      <td>39644.000000</td>\n",
              "      <td>39644.000000</td>\n",
              "      <td>...</td>\n",
              "      <td>39644.000000</td>\n",
              "      <td>39644.000000</td>\n",
              "      <td>39644.000000</td>\n",
              "      <td>39644.000000</td>\n",
              "      <td>39644.000000</td>\n",
              "      <td>39644.000000</td>\n",
              "      <td>39644.000000</td>\n",
              "      <td>39644.000000</td>\n",
              "      <td>39644.000000</td>\n",
              "      <td>39644.000000</td>\n",
              "    </tr>\n",
              "    <tr>\n",
              "      <th>mean</th>\n",
              "      <td>354.530471</td>\n",
              "      <td>10.398749</td>\n",
              "      <td>546.514731</td>\n",
              "      <td>0.548216</td>\n",
              "      <td>0.996469</td>\n",
              "      <td>0.689175</td>\n",
              "      <td>10.883690</td>\n",
              "      <td>3.293638</td>\n",
              "      <td>4.544143</td>\n",
              "      <td>1.249874</td>\n",
              "      <td>...</td>\n",
              "      <td>0.095446</td>\n",
              "      <td>0.756728</td>\n",
              "      <td>-0.259524</td>\n",
              "      <td>-0.521944</td>\n",
              "      <td>-0.107500</td>\n",
              "      <td>0.282353</td>\n",
              "      <td>0.071425</td>\n",
              "      <td>0.341843</td>\n",
              "      <td>0.156064</td>\n",
              "      <td>3395.380184</td>\n",
              "    </tr>\n",
              "    <tr>\n",
              "      <th>std</th>\n",
              "      <td>214.163767</td>\n",
              "      <td>2.114037</td>\n",
              "      <td>471.107508</td>\n",
              "      <td>3.520708</td>\n",
              "      <td>5.231231</td>\n",
              "      <td>3.264816</td>\n",
              "      <td>11.332017</td>\n",
              "      <td>3.855141</td>\n",
              "      <td>8.309434</td>\n",
              "      <td>4.107855</td>\n",
              "      <td>...</td>\n",
              "      <td>0.071315</td>\n",
              "      <td>0.247786</td>\n",
              "      <td>0.127726</td>\n",
              "      <td>0.290290</td>\n",
              "      <td>0.095373</td>\n",
              "      <td>0.324247</td>\n",
              "      <td>0.265450</td>\n",
              "      <td>0.188791</td>\n",
              "      <td>0.226294</td>\n",
              "      <td>11626.950749</td>\n",
              "    </tr>\n",
              "    <tr>\n",
              "      <th>min</th>\n",
              "      <td>8.000000</td>\n",
              "      <td>2.000000</td>\n",
              "      <td>0.000000</td>\n",
              "      <td>0.000000</td>\n",
              "      <td>0.000000</td>\n",
              "      <td>0.000000</td>\n",
              "      <td>0.000000</td>\n",
              "      <td>0.000000</td>\n",
              "      <td>0.000000</td>\n",
              "      <td>0.000000</td>\n",
              "      <td>...</td>\n",
              "      <td>0.000000</td>\n",
              "      <td>0.000000</td>\n",
              "      <td>-1.000000</td>\n",
              "      <td>-1.000000</td>\n",
              "      <td>-1.000000</td>\n",
              "      <td>0.000000</td>\n",
              "      <td>-1.000000</td>\n",
              "      <td>0.000000</td>\n",
              "      <td>0.000000</td>\n",
              "      <td>1.000000</td>\n",
              "    </tr>\n",
              "    <tr>\n",
              "      <th>25%</th>\n",
              "      <td>164.000000</td>\n",
              "      <td>9.000000</td>\n",
              "      <td>246.000000</td>\n",
              "      <td>0.470870</td>\n",
              "      <td>1.000000</td>\n",
              "      <td>0.625739</td>\n",
              "      <td>4.000000</td>\n",
              "      <td>1.000000</td>\n",
              "      <td>1.000000</td>\n",
              "      <td>0.000000</td>\n",
              "      <td>...</td>\n",
              "      <td>0.050000</td>\n",
              "      <td>0.600000</td>\n",
              "      <td>-0.328383</td>\n",
              "      <td>-0.700000</td>\n",
              "      <td>-0.125000</td>\n",
              "      <td>0.000000</td>\n",
              "      <td>0.000000</td>\n",
              "      <td>0.166667</td>\n",
              "      <td>0.000000</td>\n",
              "      <td>946.000000</td>\n",
              "    </tr>\n",
              "    <tr>\n",
              "      <th>50%</th>\n",
              "      <td>339.000000</td>\n",
              "      <td>10.000000</td>\n",
              "      <td>409.000000</td>\n",
              "      <td>0.539226</td>\n",
              "      <td>1.000000</td>\n",
              "      <td>0.690476</td>\n",
              "      <td>8.000000</td>\n",
              "      <td>3.000000</td>\n",
              "      <td>1.000000</td>\n",
              "      <td>0.000000</td>\n",
              "      <td>...</td>\n",
              "      <td>0.100000</td>\n",
              "      <td>0.800000</td>\n",
              "      <td>-0.253333</td>\n",
              "      <td>-0.500000</td>\n",
              "      <td>-0.100000</td>\n",
              "      <td>0.150000</td>\n",
              "      <td>0.000000</td>\n",
              "      <td>0.500000</td>\n",
              "      <td>0.000000</td>\n",
              "      <td>1400.000000</td>\n",
              "    </tr>\n",
              "    <tr>\n",
              "      <th>75%</th>\n",
              "      <td>542.000000</td>\n",
              "      <td>12.000000</td>\n",
              "      <td>716.000000</td>\n",
              "      <td>0.608696</td>\n",
              "      <td>1.000000</td>\n",
              "      <td>0.754630</td>\n",
              "      <td>14.000000</td>\n",
              "      <td>4.000000</td>\n",
              "      <td>4.000000</td>\n",
              "      <td>1.000000</td>\n",
              "      <td>...</td>\n",
              "      <td>0.100000</td>\n",
              "      <td>1.000000</td>\n",
              "      <td>-0.186905</td>\n",
              "      <td>-0.300000</td>\n",
              "      <td>-0.050000</td>\n",
              "      <td>0.500000</td>\n",
              "      <td>0.150000</td>\n",
              "      <td>0.500000</td>\n",
              "      <td>0.250000</td>\n",
              "      <td>2800.000000</td>\n",
              "    </tr>\n",
              "    <tr>\n",
              "      <th>max</th>\n",
              "      <td>731.000000</td>\n",
              "      <td>23.000000</td>\n",
              "      <td>8474.000000</td>\n",
              "      <td>701.000000</td>\n",
              "      <td>1042.000000</td>\n",
              "      <td>650.000000</td>\n",
              "      <td>304.000000</td>\n",
              "      <td>116.000000</td>\n",
              "      <td>128.000000</td>\n",
              "      <td>91.000000</td>\n",
              "      <td>...</td>\n",
              "      <td>1.000000</td>\n",
              "      <td>1.000000</td>\n",
              "      <td>0.000000</td>\n",
              "      <td>0.000000</td>\n",
              "      <td>0.000000</td>\n",
              "      <td>1.000000</td>\n",
              "      <td>1.000000</td>\n",
              "      <td>0.500000</td>\n",
              "      <td>1.000000</td>\n",
              "      <td>843300.000000</td>\n",
              "    </tr>\n",
              "  </tbody>\n",
              "</table>\n",
              "<p>8 rows × 60 columns</p>\n",
              "</div>\n",
              "      <button class=\"colab-df-convert\" onclick=\"convertToInteractive('df-76efe007-91a9-4cf7-a84a-8afa33a52f49')\"\n",
              "              title=\"Convert this dataframe to an interactive table.\"\n",
              "              style=\"display:none;\">\n",
              "        \n",
              "  <svg xmlns=\"http://www.w3.org/2000/svg\" height=\"24px\"viewBox=\"0 0 24 24\"\n",
              "       width=\"24px\">\n",
              "    <path d=\"M0 0h24v24H0V0z\" fill=\"none\"/>\n",
              "    <path d=\"M18.56 5.44l.94 2.06.94-2.06 2.06-.94-2.06-.94-.94-2.06-.94 2.06-2.06.94zm-11 1L8.5 8.5l.94-2.06 2.06-.94-2.06-.94L8.5 2.5l-.94 2.06-2.06.94zm10 10l.94 2.06.94-2.06 2.06-.94-2.06-.94-.94-2.06-.94 2.06-2.06.94z\"/><path d=\"M17.41 7.96l-1.37-1.37c-.4-.4-.92-.59-1.43-.59-.52 0-1.04.2-1.43.59L10.3 9.45l-7.72 7.72c-.78.78-.78 2.05 0 2.83L4 21.41c.39.39.9.59 1.41.59.51 0 1.02-.2 1.41-.59l7.78-7.78 2.81-2.81c.8-.78.8-2.07 0-2.86zM5.41 20L4 18.59l7.72-7.72 1.47 1.35L5.41 20z\"/>\n",
              "  </svg>\n",
              "      </button>\n",
              "      \n",
              "  <style>\n",
              "    .colab-df-container {\n",
              "      display:flex;\n",
              "      flex-wrap:wrap;\n",
              "      gap: 12px;\n",
              "    }\n",
              "\n",
              "    .colab-df-convert {\n",
              "      background-color: #E8F0FE;\n",
              "      border: none;\n",
              "      border-radius: 50%;\n",
              "      cursor: pointer;\n",
              "      display: none;\n",
              "      fill: #1967D2;\n",
              "      height: 32px;\n",
              "      padding: 0 0 0 0;\n",
              "      width: 32px;\n",
              "    }\n",
              "\n",
              "    .colab-df-convert:hover {\n",
              "      background-color: #E2EBFA;\n",
              "      box-shadow: 0px 1px 2px rgba(60, 64, 67, 0.3), 0px 1px 3px 1px rgba(60, 64, 67, 0.15);\n",
              "      fill: #174EA6;\n",
              "    }\n",
              "\n",
              "    [theme=dark] .colab-df-convert {\n",
              "      background-color: #3B4455;\n",
              "      fill: #D2E3FC;\n",
              "    }\n",
              "\n",
              "    [theme=dark] .colab-df-convert:hover {\n",
              "      background-color: #434B5C;\n",
              "      box-shadow: 0px 1px 3px 1px rgba(0, 0, 0, 0.15);\n",
              "      filter: drop-shadow(0px 1px 2px rgba(0, 0, 0, 0.3));\n",
              "      fill: #FFFFFF;\n",
              "    }\n",
              "  </style>\n",
              "\n",
              "      <script>\n",
              "        const buttonEl =\n",
              "          document.querySelector('#df-76efe007-91a9-4cf7-a84a-8afa33a52f49 button.colab-df-convert');\n",
              "        buttonEl.style.display =\n",
              "          google.colab.kernel.accessAllowed ? 'block' : 'none';\n",
              "\n",
              "        async function convertToInteractive(key) {\n",
              "          const element = document.querySelector('#df-76efe007-91a9-4cf7-a84a-8afa33a52f49');\n",
              "          const dataTable =\n",
              "            await google.colab.kernel.invokeFunction('convertToInteractive',\n",
              "                                                     [key], {});\n",
              "          if (!dataTable) return;\n",
              "\n",
              "          const docLinkHtml = 'Like what you see? Visit the ' +\n",
              "            '<a target=\"_blank\" href=https://colab.research.google.com/notebooks/data_table.ipynb>data table notebook</a>'\n",
              "            + ' to learn more about interactive tables.';\n",
              "          element.innerHTML = '';\n",
              "          dataTable['output_type'] = 'display_data';\n",
              "          await google.colab.output.renderOutput(dataTable, element);\n",
              "          const docLink = document.createElement('div');\n",
              "          docLink.innerHTML = docLinkHtml;\n",
              "          element.appendChild(docLink);\n",
              "        }\n",
              "      </script>\n",
              "    </div>\n",
              "  </div>\n",
              "  "
            ]
          },
          "metadata": {},
          "execution_count": 5
        }
      ],
      "source": [
        "df.describe()"
      ]
    },
    {
      "cell_type": "code",
      "execution_count": null,
      "metadata": {
        "colab": {
          "base_uri": "https://localhost:8080/"
        },
        "id": "BYZfTh3hAIUT",
        "outputId": "bfa0232d-c082-479b-b817-fc13664a0bbc"
      },
      "outputs": [
        {
          "output_type": "execute_result",
          "data": {
            "text/plain": [
              "Index(['url', 'timedelta', 'n_tokens_title', 'n_tokens_content',\n",
              "       'n_unique_tokens', 'n_non_stop_words', 'n_non_stop_unique_tokens',\n",
              "       'num_hrefs', 'num_self_hrefs', 'num_imgs', 'num_videos',\n",
              "       'average_token_length', 'num_keywords', 'data_channel_is_lifestyle',\n",
              "       'data_channel_is_entertainment', 'data_channel_is_bus',\n",
              "       'data_channel_is_socmed', 'data_channel_is_tech',\n",
              "       'data_channel_is_world', 'kw_min_min', 'kw_max_min', 'kw_avg_min',\n",
              "       'kw_min_max', 'kw_max_max', 'kw_avg_max', 'kw_min_avg', 'kw_max_avg',\n",
              "       'kw_avg_avg', 'self_reference_min_shares', 'self_reference_max_shares',\n",
              "       'self_reference_avg_sharess', 'weekday_is_monday', 'weekday_is_tuesday',\n",
              "       'weekday_is_wednesday', 'weekday_is_thursday', 'weekday_is_friday',\n",
              "       'weekday_is_saturday', 'weekday_is_sunday', 'is_weekend', 'lda_00',\n",
              "       'lda_01', 'lda_02', 'lda_03', 'lda_04', 'global_subjectivity',\n",
              "       'global_sentiment_polarity', 'global_rate_positive_words',\n",
              "       'global_rate_negative_words', 'rate_positive_words',\n",
              "       'rate_negative_words', 'avg_positive_polarity', 'min_positive_polarity',\n",
              "       'max_positive_polarity', 'avg_negative_polarity',\n",
              "       'min_negative_polarity', 'max_negative_polarity', 'title_subjectivity',\n",
              "       'title_sentiment_polarity', 'abs_title_subjectivity',\n",
              "       'abs_title_sentiment_polarity', 'shares'],\n",
              "      dtype='object')"
            ]
          },
          "metadata": {},
          "execution_count": 6
        }
      ],
      "source": [
        "df.columns"
      ]
    },
    {
      "cell_type": "code",
      "execution_count": null,
      "metadata": {
        "colab": {
          "base_uri": "https://localhost:8080/"
        },
        "id": "0OTaqMKaAIUV",
        "outputId": "87333577-880d-4e8c-d2b6-4d43115d142d"
      },
      "outputs": [
        {
          "output_type": "stream",
          "name": "stdout",
          "text": [
            "<class 'pandas.core.frame.DataFrame'>\n",
            "RangeIndex: 39644 entries, 0 to 39643\n",
            "Data columns (total 61 columns):\n",
            " #   Column                         Non-Null Count  Dtype  \n",
            "---  ------                         --------------  -----  \n",
            " 0   url                            39644 non-null  object \n",
            " 1   timedelta                      39644 non-null  float64\n",
            " 2   n_tokens_title                 39644 non-null  float64\n",
            " 3   n_tokens_content               39644 non-null  float64\n",
            " 4   n_unique_tokens                39644 non-null  float64\n",
            " 5   n_non_stop_words               39644 non-null  float64\n",
            " 6   n_non_stop_unique_tokens       39644 non-null  float64\n",
            " 7   num_hrefs                      39644 non-null  float64\n",
            " 8   num_self_hrefs                 39644 non-null  float64\n",
            " 9   num_imgs                       39644 non-null  float64\n",
            " 10  num_videos                     39644 non-null  float64\n",
            " 11  average_token_length           39644 non-null  float64\n",
            " 12  num_keywords                   39644 non-null  float64\n",
            " 13  data_channel_is_lifestyle      39644 non-null  float64\n",
            " 14  data_channel_is_entertainment  39644 non-null  float64\n",
            " 15  data_channel_is_bus            39644 non-null  float64\n",
            " 16  data_channel_is_socmed         39644 non-null  float64\n",
            " 17  data_channel_is_tech           39644 non-null  float64\n",
            " 18  data_channel_is_world          39644 non-null  float64\n",
            " 19  kw_min_min                     39644 non-null  float64\n",
            " 20  kw_max_min                     39644 non-null  float64\n",
            " 21  kw_avg_min                     39644 non-null  float64\n",
            " 22  kw_min_max                     39644 non-null  float64\n",
            " 23  kw_max_max                     39644 non-null  float64\n",
            " 24  kw_avg_max                     39644 non-null  float64\n",
            " 25  kw_min_avg                     39644 non-null  float64\n",
            " 26  kw_max_avg                     39644 non-null  float64\n",
            " 27  kw_avg_avg                     39644 non-null  float64\n",
            " 28  self_reference_min_shares      39644 non-null  float64\n",
            " 29  self_reference_max_shares      39644 non-null  float64\n",
            " 30  self_reference_avg_sharess     39644 non-null  float64\n",
            " 31  weekday_is_monday              39644 non-null  float64\n",
            " 32  weekday_is_tuesday             39644 non-null  float64\n",
            " 33  weekday_is_wednesday           39644 non-null  float64\n",
            " 34  weekday_is_thursday            39644 non-null  float64\n",
            " 35  weekday_is_friday              39644 non-null  float64\n",
            " 36  weekday_is_saturday            39644 non-null  float64\n",
            " 37  weekday_is_sunday              39644 non-null  float64\n",
            " 38  is_weekend                     39644 non-null  float64\n",
            " 39  lda_00                         39644 non-null  float64\n",
            " 40  lda_01                         39644 non-null  float64\n",
            " 41  lda_02                         39644 non-null  float64\n",
            " 42  lda_03                         39644 non-null  float64\n",
            " 43  lda_04                         39644 non-null  float64\n",
            " 44  global_subjectivity            39644 non-null  float64\n",
            " 45  global_sentiment_polarity      39644 non-null  float64\n",
            " 46  global_rate_positive_words     39644 non-null  float64\n",
            " 47  global_rate_negative_words     39644 non-null  float64\n",
            " 48  rate_positive_words            39644 non-null  float64\n",
            " 49  rate_negative_words            39644 non-null  float64\n",
            " 50  avg_positive_polarity          39644 non-null  float64\n",
            " 51  min_positive_polarity          39644 non-null  float64\n",
            " 52  max_positive_polarity          39644 non-null  float64\n",
            " 53  avg_negative_polarity          39644 non-null  float64\n",
            " 54  min_negative_polarity          39644 non-null  float64\n",
            " 55  max_negative_polarity          39644 non-null  float64\n",
            " 56  title_subjectivity             39644 non-null  float64\n",
            " 57  title_sentiment_polarity       39644 non-null  float64\n",
            " 58  abs_title_subjectivity         39644 non-null  float64\n",
            " 59  abs_title_sentiment_polarity   39644 non-null  float64\n",
            " 60  shares                         39644 non-null  int64  \n",
            "dtypes: float64(59), int64(1), object(1)\n",
            "memory usage: 18.5+ MB\n"
          ]
        }
      ],
      "source": [
        "df.info()"
      ]
    },
    {
      "cell_type": "markdown",
      "metadata": {
        "id": "3AYWB2YUAIUW"
      },
      "source": [
        "### Exploratory Data Analysis"
      ]
    },
    {
      "cell_type": "code",
      "execution_count": null,
      "metadata": {
        "id": "2GhTiNOrAIUX"
      },
      "outputs": [],
      "source": [
        "def desc(title=None, xscale=None, yscale=None, xlabel=None, ylabel=None, xlim=None, ylim=None, xticks1=None, xticks2=None, yticks1=None, yticks2=None,legend_title=None, legend_labels=None):\n",
        "    if title:\n",
        "        plt.title(title)\n",
        "    if xscale:\n",
        "        plt.xscale(xscale)\n",
        "    if yscale:\n",
        "        plt.yscale(yscale)\n",
        "    if xlabel:\n",
        "        plt.xlabel(xlabel)\n",
        "    if ylabel:\n",
        "        plt.ylabel(ylabel)\n",
        "    if xlim:\n",
        "        plt.xlim(xlim)\n",
        "    if ylim:\n",
        "        plt.ylim(ylim)\n",
        "    if xticks1:\n",
        "        plt.xticks(xticks1, xticks2)\n",
        "    if yticks1:\n",
        "        plt.yticks(yticks1, yticks2)\n",
        "    if legend_title:\n",
        "        plt.legend(title=legend_title)\n",
        "        if legend_labels:\n",
        "            plt.legend(title=legend_title, labels=legend_labels)"
      ]
    },
    {
      "cell_type": "code",
      "execution_count": null,
      "metadata": {
        "colab": {
          "base_uri": "https://localhost:8080/",
          "height": 379
        },
        "id": "x69ZdhwlAIUY",
        "outputId": "e9c0b38a-9e44-44b6-a95d-ee59356dfcc3"
      },
      "outputs": [
        {
          "output_type": "display_data",
          "data": {
            "text/plain": [
              "<Figure size 1440x360 with 1 Axes>"
            ],
            "image/png": "[encoded data removed]"
          },
          "metadata": {
            "needs_background": "light"
          }
        }
      ],
      "source": [
        "def cdf(data):\n",
        "    x = np.sort(data)\n",
        "    y = np.arange(1, len(x)+1) / len(x)\n",
        "    return x, y\n",
        "\n",
        "x, y = cdf(df.shares)\n",
        "\n",
        "plt.figure(figsize=(20,5))\n",
        "plt.plot(x, y)\n",
        "plt.xticks(rotation=70)\n",
        "desc(title = \"Cumulative Distribution of Shares\", xlabel='shares', ylabel='%', xticks1 = range(0, 900000, 15000))"
      ]
    },
    {
      "cell_type": "code",
      "execution_count": null,
      "metadata": {
        "scrolled": true,
        "colab": {
          "base_uri": "https://localhost:8080/",
          "height": 350
        },
        "id": "JQ5iURHmAIUZ",
        "outputId": "b5cf205b-f5ad-4850-81da-2ad954243465"
      },
      "outputs": [
        {
          "output_type": "display_data",
          "data": {
            "text/plain": [
              "<Figure size 1440x360 with 1 Axes>"
            ],
            "image/png": "[encoded data removed]"
          },
          "metadata": {
            "needs_background": "light"
          }
        }
      ],
      "source": [
        "df_majority = df[df.shares < 15000] \n",
        "\n",
        "# plot out the Cumulative Distribution of the dependant varible, shares.\n",
        "x, y = cdf(df_majority.shares)\n",
        "\n",
        "plt.figure(figsize=(20,5))\n",
        "plt.plot(x, y)\n",
        "desc(title = \"Cumulative Distribution of Shares\", xlabel='shares', ylabel='%', xticks1 = range(0, 16000, 1000));"
      ]
    },
    {
      "cell_type": "code",
      "execution_count": null,
      "metadata": {
        "scrolled": true,
        "colab": {
          "base_uri": "https://localhost:8080/",
          "height": 486
        },
        "id": "rnxCqT_WAIUZ",
        "outputId": "a4cbd74d-c540-4fe5-fbbb-f1477c23aab0"
      },
      "outputs": [
        {
          "output_type": "display_data",
          "data": {
            "text/plain": [
              "<Figure size 2160x720 with 1 Axes>"
            ],
            "image/png": "[encoded data removed]"
          },
          "metadata": {
            "needs_background": "light"
          }
        }
      ],
      "source": [
        "# Plotting the Distribution of the dependant varible, shares.\n",
        "plt.figure(figsize=(30,10))\n",
        "bin_edges = np.arange(0, df_majority['shares'].max()+1, 100) \n",
        "plt.hist(data = df_majority, x = 'shares', bins = bin_edges)\n",
        "plt.xticks(rotation=90)\n",
        "desc(title = \"Distribution of shares\", xlabel='shares', ylabel='count', xticks1 = range(0, 15000, 100));"
      ]
    },
    {
      "cell_type": "markdown",
      "metadata": {
        "id": "afZkmz0tAIUa"
      },
      "source": [
        "- We can tell most articles are in the range between 400 and 4000.\n",
        "- Therefore, I decided to divide the number of shares into 3 levels:\n",
        "    1. Extremely Bad: If the number of shares is lower than 400.\n",
        "    2. Majority: If the number of shares is between 400 to 4000.\n",
        "    3. Extremely Good: If the number of shares is more than 4000. \n"
      ]
    },
    {
      "cell_type": "code",
      "execution_count": null,
      "metadata": {
        "colab": {
          "base_uri": "https://localhost:8080/",
          "height": 486
        },
        "id": "1d1suhjmAIUb",
        "outputId": "4a91f8fd-29ae-4600-bff5-0106f8c23cc2"
      },
      "outputs": [
        {
          "output_type": "display_data",
          "data": {
            "text/plain": [
              "<Figure size 2160x720 with 1 Axes>"
            ],
            "image/png": "[encoded data removed]"
          },
          "metadata": {
            "needs_background": "light"
          }
        }
      ],
      "source": [
        "# plot out the Distribution of the dependant varible, shares.\n",
        "plt.figure(figsize=(30,10))\n",
        "bin_edges = np.arange(0, df_majority['shares'].max()+1, 100) \n",
        "plt.hist(data = df_majority, x = 'shares', bins = bin_edges)\n",
        "plt.xticks(rotation=90)\n",
        "desc(title = \"Distribution of shares\", xlabel='shares', ylabel='count', xticks1 = range(0, 15000, 100))\n",
        "plt.axvline(400, c ='r')\n",
        "plt.axvline(4000, c ='r');"
      ]
    },
    {
      "cell_type": "code",
      "execution_count": null,
      "metadata": {
        "id": "-Xjo4AbIAIUd"
      },
      "outputs": [],
      "source": [
        "# Bin edges that will be used to \"cut\" the data into groups\n",
        "bin_edges = [0, 400, 4000, 1000000]\n",
        "\n",
        "# Labels for the 3 levels\n",
        "bin_names = [0, 1, 2] # Name each popularity level category\n",
        "\n",
        "# Creates acidity_levels column\n",
        "df['shares_levels'] = pd.cut(df['shares'], bin_edges, labels=bin_names)"
      ]
    },
    {
      "cell_type": "code",
      "execution_count": null,
      "metadata": {
        "scrolled": true,
        "colab": {
          "base_uri": "https://localhost:8080/"
        },
        "id": "_iKmSKABAIUd",
        "outputId": "e6b8f479-7c1b-4a9b-840d-bb9b78ec102d"
      },
      "outputs": [
        {
          "output_type": "execute_result",
          "data": {
            "text/plain": [
              "shares_levels\n",
              "0    0.011729\n",
              "1    0.824412\n",
              "2    0.163858\n",
              "Name: shares, dtype: float64"
            ]
          },
          "metadata": {},
          "execution_count": 14
        }
      ],
      "source": [
        "# Checks the proportion of each group\n",
        "df.groupby('shares_levels').shares.count()/df.shares.count()"
      ]
    },
    {
      "cell_type": "markdown",
      "metadata": {
        "id": "2T4eumBqAIUd"
      },
      "source": [
        "- Extremely Bad: 1.17%\n",
        "- Majority: 82.44%\n",
        "- Extremely Good: 16.39%"
      ]
    },
    {
      "cell_type": "markdown",
      "metadata": {
        "id": "RvLhebZcAIUd"
      },
      "source": [
        "## Combine one-hot encoding columns(data_channel-related and weekday-related into single columns"
      ]
    },
    {
      "cell_type": "code",
      "execution_count": null,
      "metadata": {
        "id": "y5jQKcr3AIUf"
      },
      "outputs": [],
      "source": [
        "# Create new columns to store the combined version of each.\n",
        "df['weekday'] = None\n",
        "df['data_channel'] = None"
      ]
    },
    {
      "cell_type": "code",
      "execution_count": null,
      "metadata": {
        "colab": {
          "base_uri": "https://localhost:8080/"
        },
        "id": "HZDxQDTrAIUf",
        "outputId": "108ab3c9-cee4-44d7-d9b4-1e1c242d93d9"
      },
      "outputs": [
        {
          "output_type": "execute_result",
          "data": {
            "text/plain": [
              "Index(['url', 'timedelta', 'n_tokens_title', 'n_tokens_content',\n",
              "       'n_unique_tokens', 'n_non_stop_words', 'n_non_stop_unique_tokens',\n",
              "       'num_hrefs', 'num_self_hrefs', 'num_imgs', 'num_videos',\n",
              "       'average_token_length', 'num_keywords', 'data_channel_is_lifestyle',\n",
              "       'data_channel_is_entertainment', 'data_channel_is_bus',\n",
              "       'data_channel_is_socmed', 'data_channel_is_tech',\n",
              "       'data_channel_is_world', 'kw_min_min', 'kw_max_min', 'kw_avg_min',\n",
              "       'kw_min_max', 'kw_max_max', 'kw_avg_max', 'kw_min_avg', 'kw_max_avg',\n",
              "       'kw_avg_avg', 'self_reference_min_shares', 'self_reference_max_shares',\n",
              "       'self_reference_avg_sharess', 'weekday_is_monday', 'weekday_is_tuesday',\n",
              "       'weekday_is_wednesday', 'weekday_is_thursday', 'weekday_is_friday',\n",
              "       'weekday_is_saturday', 'weekday_is_sunday', 'is_weekend', 'lda_00',\n",
              "       'lda_01', 'lda_02', 'lda_03', 'lda_04', 'global_subjectivity',\n",
              "       'global_sentiment_polarity', 'global_rate_positive_words',\n",
              "       'global_rate_negative_words', 'rate_positive_words',\n",
              "       'rate_negative_words', 'avg_positive_polarity', 'min_positive_polarity',\n",
              "       'max_positive_polarity', 'avg_negative_polarity',\n",
              "       'min_negative_polarity', 'max_negative_polarity', 'title_subjectivity',\n",
              "       'title_sentiment_polarity', 'abs_title_subjectivity',\n",
              "       'abs_title_sentiment_polarity', 'shares', 'shares_levels', 'weekday',\n",
              "       'data_channel'],\n",
              "      dtype='object')"
            ]
          },
          "metadata": {},
          "execution_count": 16
        }
      ],
      "source": [
        "df.columns"
      ]
    },
    {
      "cell_type": "code",
      "execution_count": null,
      "metadata": {
        "id": "EGLuQTQoAIUg"
      },
      "outputs": [],
      "source": [
        "# Converting them into single columns\n",
        "# 63 is the location where data_channel is at is the column list.\n",
        "# 64 is the location where weekday is at is the column list.\n",
        "for i in range(df.shape[0]):\n",
        "    if df.iloc[i, 13] == 1:\n",
        "        df.iloc[i, 63] = \"lifestyle\"\n",
        "    elif df.iloc[i, 14] == 1:\n",
        "        df.iloc[i, 63] = \"entertainment\"\n",
        "    elif df.iloc[i, 15] == 1:\n",
        "        df.iloc[i, 63] = \"bus\"\n",
        "    elif df.iloc[i, 16] == 1:\n",
        "        df.iloc[i, 63] = \"socmed\"\n",
        "    elif df.iloc[i, 17] == 1:\n",
        "        df.iloc[i, 63] = \"tech \"\n",
        "    elif df.iloc[i, 18] == 1:\n",
        "        df.iloc[i, 63] = \"world\"\n",
        "        \n",
        "    if df.iloc[i, 31] == 1:\n",
        "        df.iloc[i, 62] = \"monday\"\n",
        "    elif df.iloc[i, 32] == 1:\n",
        "        df.iloc[i, 62] = \"tuesday\"\n",
        "    elif df.iloc[i, 33] == 1:\n",
        "        df.iloc[i, 62] = \"wednesday\"\n",
        "    elif df.iloc[i, 34] == 1:\n",
        "        df.iloc[i, 62] = \"thursday\"\n",
        "    elif df.iloc[i, 35] == 1:\n",
        "        df.iloc[i, 62] = \"friday\"\n",
        "    elif df.iloc[i, 36] == 1:\n",
        "        df.iloc[i, 62] = \"saturday\"\n",
        "    elif df.iloc[i, 37] == 1:\n",
        "        df.iloc[i, 62] = \"sunday\""
      ]
    },
    {
      "cell_type": "code",
      "execution_count": null,
      "metadata": {
        "colab": {
          "base_uri": "https://localhost:8080/"
        },
        "id": "vYLXtUhmAIUg",
        "outputId": "75b36353-6804-4357-fcc9-3c14f537f62c"
      },
      "outputs": [
        {
          "output_type": "execute_result",
          "data": {
            "text/plain": [
              "weekday\n",
              "friday       5701\n",
              "monday       6661\n",
              "saturday     2453\n",
              "sunday       2737\n",
              "thursday     7267\n",
              "tuesday      7390\n",
              "wednesday    7435\n",
              "Name: url, dtype: int64"
            ]
          },
          "metadata": {},
          "execution_count": 18
        }
      ],
      "source": [
        "# Checking if the Weekday Columns are converted successfully\n",
        "df.groupby('weekday').url.count()"
      ]
    },
    {
      "cell_type": "code",
      "execution_count": null,
      "metadata": {
        "scrolled": true,
        "colab": {
          "base_uri": "https://localhost:8080/"
        },
        "id": "AgfFHoLFAIUg",
        "outputId": "0af6d534-7d2c-49b4-d33f-ba871644f27b"
      },
      "outputs": [
        {
          "output_type": "execute_result",
          "data": {
            "text/plain": [
              "data_channel\n",
              "bus              6258\n",
              "entertainment    7057\n",
              "lifestyle        2099\n",
              "socmed           2323\n",
              "tech             7346\n",
              "world            8427\n",
              "Name: url, dtype: int64"
            ]
          },
          "metadata": {},
          "execution_count": 19
        }
      ],
      "source": [
        "# Checking if the Data Channel Columns are converted successfully\n",
        "df.groupby('data_channel').url.count()"
      ]
    },
    {
      "cell_type": "code",
      "execution_count": null,
      "metadata": {
        "colab": {
          "base_uri": "https://localhost:8080/"
        },
        "id": "nXJejUFwAIUh",
        "outputId": "6a9c7c76-70c5-4400-94bc-c569486d4c1e"
      },
      "outputs": [
        {
          "output_type": "stream",
          "name": "stdout",
          "text": [
            "<class 'pandas.core.frame.DataFrame'>\n",
            "RangeIndex: 39644 entries, 0 to 39643\n",
            "Data columns (total 2 columns):\n",
            " #   Column        Non-Null Count  Dtype \n",
            "---  ------        --------------  ----- \n",
            " 0   data_channel  33510 non-null  object\n",
            " 1   weekday       39644 non-null  object\n",
            "dtypes: object(2)\n",
            "memory usage: 619.6+ KB\n"
          ]
        }
      ],
      "source": [
        "# Check for Null Values in the New Data Columns\n",
        "df[[\"data_channel\", \"weekday\"]].info()"
      ]
    },
    {
      "cell_type": "code",
      "execution_count": null,
      "metadata": {
        "id": "3rcpGiMVAIUh"
      },
      "outputs": [],
      "source": [
        "# Filling the Null Values with 'None'\n",
        "df.data_channel = df.data_channel.fillna(\"none\")"
      ]
    },
    {
      "cell_type": "code",
      "execution_count": null,
      "metadata": {
        "colab": {
          "base_uri": "https://localhost:8080/",
          "height": 508
        },
        "id": "jMH6WyOxAIUh",
        "outputId": "42414792-7ecf-4a1d-ec32-1a5fca7951b2"
      },
      "outputs": [
        {
          "output_type": "execute_result",
          "data": {
            "text/plain": [
              "                                                 url  timedelta  \\\n",
              "0  http://mashable.com/2013/01/07/amazon-instant-...      731.0   \n",
              "1  http://mashable.com/2013/01/07/ap-samsung-spon...      731.0   \n",
              "2  http://mashable.com/2013/01/07/apple-40-billio...      731.0   \n",
              "3  http://mashable.com/2013/01/07/astronaut-notre...      731.0   \n",
              "4   http://mashable.com/2013/01/07/att-u-verse-apps/      731.0   \n",
              "\n",
              "   n_tokens_title  n_tokens_content  n_unique_tokens  n_non_stop_words  \\\n",
              "0            12.0             219.0         0.663594               1.0   \n",
              "1             9.0             255.0         0.604743               1.0   \n",
              "2             9.0             211.0         0.575130               1.0   \n",
              "3             9.0             531.0         0.503788               1.0   \n",
              "4            13.0            1072.0         0.415646               1.0   \n",
              "\n",
              "   n_non_stop_unique_tokens  num_hrefs  num_self_hrefs  num_imgs  ...  \\\n",
              "0                  0.815385        4.0             2.0       1.0  ...   \n",
              "1                  0.791946        3.0             1.0       1.0  ...   \n",
              "2                  0.663866        3.0             1.0       1.0  ...   \n",
              "3                  0.665635        9.0             0.0       1.0  ...   \n",
              "4                  0.540890       19.0            19.0      20.0  ...   \n",
              "\n",
              "   min_negative_polarity  max_negative_polarity  title_subjectivity  \\\n",
              "0                 -0.600              -0.200000            0.500000   \n",
              "1                 -0.125              -0.100000            0.000000   \n",
              "2                 -0.800              -0.133333            0.000000   \n",
              "3                 -0.600              -0.166667            0.000000   \n",
              "4                 -0.500              -0.050000            0.454545   \n",
              "\n",
              "   title_sentiment_polarity  abs_title_subjectivity  \\\n",
              "0                 -0.187500                0.000000   \n",
              "1                  0.000000                0.500000   \n",
              "2                  0.000000                0.500000   \n",
              "3                  0.000000                0.500000   \n",
              "4                  0.136364                0.045455   \n",
              "\n",
              "   abs_title_sentiment_polarity  shares  shares_levels  weekday   data_channel  \n",
              "0                      0.187500     593              1   monday  entertainment  \n",
              "1                      0.000000     711              1   monday            bus  \n",
              "2                      0.000000    1500              1   monday            bus  \n",
              "3                      0.000000    1200              1   monday  entertainment  \n",
              "4                      0.136364     505              1   monday          tech   \n",
              "\n",
              "[5 rows x 64 columns]"
            ],
            "text/html": [
              "\n",
              "  <div id=\"df-afff3e20-a3f2-49d3-8dcc-f436ca119703\">\n",
              "    <div class=\"colab-df-container\">\n",
              "      <div>\n",
              "<style scoped>\n",
              "    .dataframe tbody tr th:only-of-type {\n",
              "        vertical-align: middle;\n",
              "    }\n",
              "\n",
              "    .dataframe tbody tr th {\n",
              "        vertical-align: top;\n",
              "    }\n",
              "\n",
              "    .dataframe thead th {\n",
              "        text-align: right;\n",
              "    }\n",
              "</style>\n",
              "<table border=\"1\" class=\"dataframe\">\n",
              "  <thead>\n",
              "    <tr style=\"text-align: right;\">\n",
              "      <th></th>\n",
              "      <th>url</th>\n",
              "      <th>timedelta</th>\n",
              "      <th>n_tokens_title</th>\n",
              "      <th>n_tokens_content</th>\n",
              "      <th>n_unique_tokens</th>\n",
              "      <th>n_non_stop_words</th>\n",
              "      <th>n_non_stop_unique_tokens</th>\n",
              "      <th>num_hrefs</th>\n",
              "      <th>num_self_hrefs</th>\n",
              "      <th>num_imgs</th>\n",
              "      <th>...</th>\n",
              "      <th>min_negative_polarity</th>\n",
              "      <th>max_negative_polarity</th>\n",
              "      <th>title_subjectivity</th>\n",
              "      <th>title_sentiment_polarity</th>\n",
              "      <th>abs_title_subjectivity</th>\n",
              "      <th>abs_title_sentiment_polarity</th>\n",
              "      <th>shares</th>\n",
              "      <th>shares_levels</th>\n",
              "      <th>weekday</th>\n",
              "      <th>data_channel</th>\n",
              "    </tr>\n",
              "  </thead>\n",
              "  <tbody>\n",
              "    <tr>\n",
              "      <th>0</th>\n",
              "      <td>http://mashable.com/2013/01/07/amazon-instant-...</td>\n",
              "      <td>731.0</td>\n",
              "      <td>12.0</td>\n",
              "      <td>219.0</td>\n",
              "      <td>0.663594</td>\n",
              "      <td>1.0</td>\n",
              "      <td>0.815385</td>\n",
              "      <td>4.0</td>\n",
              "      <td>2.0</td>\n",
              "      <td>1.0</td>\n",
              "      <td>...</td>\n",
              "      <td>-0.600</td>\n",
              "      <td>-0.200000</td>\n",
              "      <td>0.500000</td>\n",
              "      <td>-0.187500</td>\n",
              "      <td>0.000000</td>\n",
              "      <td>0.187500</td>\n",
              "      <td>593</td>\n",
              "      <td>1</td>\n",
              "      <td>monday</td>\n",
              "      <td>entertainment</td>\n",
              "    </tr>\n",
              "    <tr>\n",
              "      <th>1</th>\n",
              "      <td>http://mashable.com/2013/01/07/ap-samsung-spon...</td>\n",
              "      <td>731.0</td>\n",
              "      <td>9.0</td>\n",
              "      <td>255.0</td>\n",
              "      <td>0.604743</td>\n",
              "      <td>1.0</td>\n",
              "      <td>0.791946</td>\n",
              "      <td>3.0</td>\n",
              "      <td>1.0</td>\n",
              "      <td>1.0</td>\n",
              "      <td>...</td>\n",
              "      <td>-0.125</td>\n",
              "      <td>-0.100000</td>\n",
              "      <td>0.000000</td>\n",
              "      <td>0.000000</td>\n",
              "      <td>0.500000</td>\n",
              "      <td>0.000000</td>\n",
              "      <td>711</td>\n",
              "      <td>1</td>\n",
              "      <td>monday</td>\n",
              "      <td>bus</td>\n",
              "    </tr>\n",
              "    <tr>\n",
              "      <th>2</th>\n",
              "      <td>http://mashable.com/2013/01/07/apple-40-billio...</td>\n",
              "      <td>731.0</td>\n",
              "      <td>9.0</td>\n",
              "      <td>211.0</td>\n",
              "      <td>0.575130</td>\n",
              "      <td>1.0</td>\n",
              "      <td>0.663866</td>\n",
              "      <td>3.0</td>\n",
              "      <td>1.0</td>\n",
              "      <td>1.0</td>\n",
              "      <td>...</td>\n",
              "      <td>-0.800</td>\n",
              "      <td>-0.133333</td>\n",
              "      <td>0.000000</td>\n",
              "      <td>0.000000</td>\n",
              "      <td>0.500000</td>\n",
              "      <td>0.000000</td>\n",
              "      <td>1500</td>\n",
              "      <td>1</td>\n",
              "      <td>monday</td>\n",
              "      <td>bus</td>\n",
              "    </tr>\n",
              "    <tr>\n",
              "      <th>3</th>\n",
              "      <td>http://mashable.com/2013/01/07/astronaut-notre...</td>\n",
              "      <td>731.0</td>\n",
              "      <td>9.0</td>\n",
              "      <td>531.0</td>\n",
              "      <td>0.503788</td>\n",
              "      <td>1.0</td>\n",
              "      <td>0.665635</td>\n",
              "      <td>9.0</td>\n",
              "      <td>0.0</td>\n",
              "      <td>1.0</td>\n",
              "      <td>...</td>\n",
              "      <td>-0.600</td>\n",
              "      <td>-0.166667</td>\n",
              "      <td>0.000000</td>\n",
              "      <td>0.000000</td>\n",
              "      <td>0.500000</td>\n",
              "      <td>0.000000</td>\n",
              "      <td>1200</td>\n",
              "      <td>1</td>\n",
              "      <td>monday</td>\n",
              "      <td>entertainment</td>\n",
              "    </tr>\n",
              "    <tr>\n",
              "      <th>4</th>\n",
              "      <td>http://mashable.com/2013/01/07/att-u-verse-apps/</td>\n",
              "      <td>731.0</td>\n",
              "      <td>13.0</td>\n",
              "      <td>1072.0</td>\n",
              "      <td>0.415646</td>\n",
              "      <td>1.0</td>\n",
              "      <td>0.540890</td>\n",
              "      <td>19.0</td>\n",
              "      <td>19.0</td>\n",
              "      <td>20.0</td>\n",
              "      <td>...</td>\n",
              "      <td>-0.500</td>\n",
              "      <td>-0.050000</td>\n",
              "      <td>0.454545</td>\n",
              "      <td>0.136364</td>\n",
              "      <td>0.045455</td>\n",
              "      <td>0.136364</td>\n",
              "      <td>505</td>\n",
              "      <td>1</td>\n",
              "      <td>monday</td>\n",
              "      <td>tech</td>\n",
              "    </tr>\n",
              "  </tbody>\n",
              "</table>\n",
              "<p>5 rows × 64 columns</p>\n",
              "</div>\n",
              "      <button class=\"colab-df-convert\" onclick=\"convertToInteractive('df-afff3e20-a3f2-49d3-8dcc-f436ca119703')\"\n",
              "              title=\"Convert this dataframe to an interactive table.\"\n",
              "              style=\"display:none;\">\n",
              "        \n",
              "  <svg xmlns=\"http://www.w3.org/2000/svg\" height=\"24px\"viewBox=\"0 0 24 24\"\n",
              "       width=\"24px\">\n",
              "    <path d=\"M0 0h24v24H0V0z\" fill=\"none\"/>\n",
              "    <path d=\"M18.56 5.44l.94 2.06.94-2.06 2.06-.94-2.06-.94-.94-2.06-.94 2.06-2.06.94zm-11 1L8.5 8.5l.94-2.06 2.06-.94-2.06-.94L8.5 2.5l-.94 2.06-2.06.94zm10 10l.94 2.06.94-2.06 2.06-.94-2.06-.94-.94-2.06-.94 2.06-2.06.94z\"/><path d=\"M17.41 7.96l-1.37-1.37c-.4-.4-.92-.59-1.43-.59-.52 0-1.04.2-1.43.59L10.3 9.45l-7.72 7.72c-.78.78-.78 2.05 0 2.83L4 21.41c.39.39.9.59 1.41.59.51 0 1.02-.2 1.41-.59l7.78-7.78 2.81-2.81c.8-.78.8-2.07 0-2.86zM5.41 20L4 18.59l7.72-7.72 1.47 1.35L5.41 20z\"/>\n",
              "  </svg>\n",
              "      </button>\n",
              "      \n",
              "  <style>\n",
              "    .colab-df-container {\n",
              "      display:flex;\n",
              "      flex-wrap:wrap;\n",
              "      gap: 12px;\n",
              "    }\n",
              "\n",
              "    .colab-df-convert {\n",
              "      background-color: #E8F0FE;\n",
              "      border: none;\n",
              "      border-radius: 50%;\n",
              "      cursor: pointer;\n",
              "      display: none;\n",
              "      fill: #1967D2;\n",
              "      height: 32px;\n",
              "      padding: 0 0 0 0;\n",
              "      width: 32px;\n",
              "    }\n",
              "\n",
              "    .colab-df-convert:hover {\n",
              "      background-color: #E2EBFA;\n",
              "      box-shadow: 0px 1px 2px rgba(60, 64, 67, 0.3), 0px 1px 3px 1px rgba(60, 64, 67, 0.15);\n",
              "      fill: #174EA6;\n",
              "    }\n",
              "\n",
              "    [theme=dark] .colab-df-convert {\n",
              "      background-color: #3B4455;\n",
              "      fill: #D2E3FC;\n",
              "    }\n",
              "\n",
              "    [theme=dark] .colab-df-convert:hover {\n",
              "      background-color: #434B5C;\n",
              "      box-shadow: 0px 1px 3px 1px rgba(0, 0, 0, 0.15);\n",
              "      filter: drop-shadow(0px 1px 2px rgba(0, 0, 0, 0.3));\n",
              "      fill: #FFFFFF;\n",
              "    }\n",
              "  </style>\n",
              "\n",
              "      <script>\n",
              "        const buttonEl =\n",
              "          document.querySelector('#df-afff3e20-a3f2-49d3-8dcc-f436ca119703 button.colab-df-convert');\n",
              "        buttonEl.style.display =\n",
              "          google.colab.kernel.accessAllowed ? 'block' : 'none';\n",
              "\n",
              "        async function convertToInteractive(key) {\n",
              "          const element = document.querySelector('#df-afff3e20-a3f2-49d3-8dcc-f436ca119703');\n",
              "          const dataTable =\n",
              "            await google.colab.kernel.invokeFunction('convertToInteractive',\n",
              "                                                     [key], {});\n",
              "          if (!dataTable) return;\n",
              "\n",
              "          const docLinkHtml = 'Like what you see? Visit the ' +\n",
              "            '<a target=\"_blank\" href=https://colab.research.google.com/notebooks/data_table.ipynb>data table notebook</a>'\n",
              "            + ' to learn more about interactive tables.';\n",
              "          element.innerHTML = '';\n",
              "          dataTable['output_type'] = 'display_data';\n",
              "          await google.colab.output.renderOutput(dataTable, element);\n",
              "          const docLink = document.createElement('div');\n",
              "          docLink.innerHTML = docLinkHtml;\n",
              "          element.appendChild(docLink);\n",
              "        }\n",
              "      </script>\n",
              "    </div>\n",
              "  </div>\n",
              "  "
            ]
          },
          "metadata": {},
          "execution_count": 22
        }
      ],
      "source": [
        "df.head()"
      ]
    },
    {
      "cell_type": "markdown",
      "metadata": {
        "id": "BboQexlgAIUh"
      },
      "source": [
        "# Random Forest Model Building"
      ]
    },
    {
      "cell_type": "markdown",
      "metadata": {
        "id": "ZdFtAifDAIUi"
      },
      "source": [
        "### Step 1: Convert the categorical columns into numeric formats."
      ]
    },
    {
      "cell_type": "code",
      "execution_count": null,
      "metadata": {
        "id": "pmSQt66fAIUi",
        "colab": {
          "base_uri": "https://localhost:8080/",
          "height": 508
        },
        "outputId": "c12307b5-0a1c-4e35-c28e-2d02130cf7c0"
      },
      "outputs": [
        {
          "output_type": "execute_result",
          "data": {
            "text/plain": [
              "                                                 url  timedelta  \\\n",
              "0  http://mashable.com/2013/01/07/amazon-instant-...      731.0   \n",
              "1  http://mashable.com/2013/01/07/ap-samsung-spon...      731.0   \n",
              "2  http://mashable.com/2013/01/07/apple-40-billio...      731.0   \n",
              "3  http://mashable.com/2013/01/07/astronaut-notre...      731.0   \n",
              "4   http://mashable.com/2013/01/07/att-u-verse-apps/      731.0   \n",
              "\n",
              "   n_tokens_title  n_tokens_content  n_unique_tokens  n_non_stop_words  \\\n",
              "0            12.0             219.0         0.663594               1.0   \n",
              "1             9.0             255.0         0.604743               1.0   \n",
              "2             9.0             211.0         0.575130               1.0   \n",
              "3             9.0             531.0         0.503788               1.0   \n",
              "4            13.0            1072.0         0.415646               1.0   \n",
              "\n",
              "   n_non_stop_unique_tokens  num_hrefs  num_self_hrefs  num_imgs  ...  \\\n",
              "0                  0.815385        4.0             2.0       1.0  ...   \n",
              "1                  0.791946        3.0             1.0       1.0  ...   \n",
              "2                  0.663866        3.0             1.0       1.0  ...   \n",
              "3                  0.665635        9.0             0.0       1.0  ...   \n",
              "4                  0.540890       19.0            19.0      20.0  ...   \n",
              "\n",
              "   min_negative_polarity  max_negative_polarity  title_subjectivity  \\\n",
              "0                 -0.600              -0.200000            0.500000   \n",
              "1                 -0.125              -0.100000            0.000000   \n",
              "2                 -0.800              -0.133333            0.000000   \n",
              "3                 -0.600              -0.166667            0.000000   \n",
              "4                 -0.500              -0.050000            0.454545   \n",
              "\n",
              "   title_sentiment_polarity  abs_title_subjectivity  \\\n",
              "0                 -0.187500                0.000000   \n",
              "1                  0.000000                0.500000   \n",
              "2                  0.000000                0.500000   \n",
              "3                  0.000000                0.500000   \n",
              "4                  0.136364                0.045455   \n",
              "\n",
              "   abs_title_sentiment_polarity  shares  shares_levels  weekday  data_channel  \n",
              "0                      0.187500     593              1        1             1  \n",
              "1                      0.000000     711              1        1             0  \n",
              "2                      0.000000    1500              1        1             0  \n",
              "3                      0.000000    1200              1        1             1  \n",
              "4                      0.136364     505              1        1             5  \n",
              "\n",
              "[5 rows x 64 columns]"
            ],
            "text/html": [
              "\n",
              "  <div id=\"df-f637caaf-ba7c-47de-bec5-179bf8452ea7\">\n",
              "    <div class=\"colab-df-container\">\n",
              "      <div>\n",
              "<style scoped>\n",
              "    .dataframe tbody tr th:only-of-type {\n",
              "        vertical-align: middle;\n",
              "    }\n",
              "\n",
              "    .dataframe tbody tr th {\n",
              "        vertical-align: top;\n",
              "    }\n",
              "\n",
              "    .dataframe thead th {\n",
              "        text-align: right;\n",
              "    }\n",
              "</style>\n",
              "<table border=\"1\" class=\"dataframe\">\n",
              "  <thead>\n",
              "    <tr style=\"text-align: right;\">\n",
              "      <th></th>\n",
              "      <th>url</th>\n",
              "      <th>timedelta</th>\n",
              "      <th>n_tokens_title</th>\n",
              "      <th>n_tokens_content</th>\n",
              "      <th>n_unique_tokens</th>\n",
              "      <th>n_non_stop_words</th>\n",
              "      <th>n_non_stop_unique_tokens</th>\n",
              "      <th>num_hrefs</th>\n",
              "      <th>num_self_hrefs</th>\n",
              "      <th>num_imgs</th>\n",
              "      <th>...</th>\n",
              "      <th>min_negative_polarity</th>\n",
              "      <th>max_negative_polarity</th>\n",
              "      <th>title_subjectivity</th>\n",
              "      <th>title_sentiment_polarity</th>\n",
              "      <th>abs_title_subjectivity</th>\n",
              "      <th>abs_title_sentiment_polarity</th>\n",
              "      <th>shares</th>\n",
              "      <th>shares_levels</th>\n",
              "      <th>weekday</th>\n",
              "      <th>data_channel</th>\n",
              "    </tr>\n",
              "  </thead>\n",
              "  <tbody>\n",
              "    <tr>\n",
              "      <th>0</th>\n",
              "      <td>http://mashable.com/2013/01/07/amazon-instant-...</td>\n",
              "      <td>731.0</td>\n",
              "      <td>12.0</td>\n",
              "      <td>219.0</td>\n",
              "      <td>0.663594</td>\n",
              "      <td>1.0</td>\n",
              "      <td>0.815385</td>\n",
              "      <td>4.0</td>\n",
              "      <td>2.0</td>\n",
              "      <td>1.0</td>\n",
              "      <td>...</td>\n",
              "      <td>-0.600</td>\n",
              "      <td>-0.200000</td>\n",
              "      <td>0.500000</td>\n",
              "      <td>-0.187500</td>\n",
              "      <td>0.000000</td>\n",
              "      <td>0.187500</td>\n",
              "      <td>593</td>\n",
              "      <td>1</td>\n",
              "      <td>1</td>\n",
              "      <td>1</td>\n",
              "    </tr>\n",
              "    <tr>\n",
              "      <th>1</th>\n",
              "      <td>http://mashable.com/2013/01/07/ap-samsung-spon...</td>\n",
              "      <td>731.0</td>\n",
              "      <td>9.0</td>\n",
              "      <td>255.0</td>\n",
              "      <td>0.604743</td>\n",
              "      <td>1.0</td>\n",
              "      <td>0.791946</td>\n",
              "      <td>3.0</td>\n",
              "      <td>1.0</td>\n",
              "      <td>1.0</td>\n",
              "      <td>...</td>\n",
              "      <td>-0.125</td>\n",
              "      <td>-0.100000</td>\n",
              "      <td>0.000000</td>\n",
              "      <td>0.000000</td>\n",
              "      <td>0.500000</td>\n",
              "      <td>0.000000</td>\n",
              "      <td>711</td>\n",
              "      <td>1</td>\n",
              "      <td>1</td>\n",
              "      <td>0</td>\n",
              "    </tr>\n",
              "    <tr>\n",
              "      <th>2</th>\n",
              "      <td>http://mashable.com/2013/01/07/apple-40-billio...</td>\n",
              "      <td>731.0</td>\n",
              "      <td>9.0</td>\n",
              "      <td>211.0</td>\n",
              "      <td>0.575130</td>\n",
              "      <td>1.0</td>\n",
              "      <td>0.663866</td>\n",
              "      <td>3.0</td>\n",
              "      <td>1.0</td>\n",
              "      <td>1.0</td>\n",
              "      <td>...</td>\n",
              "      <td>-0.800</td>\n",
              "      <td>-0.133333</td>\n",
              "      <td>0.000000</td>\n",
              "      <td>0.000000</td>\n",
              "      <td>0.500000</td>\n",
              "      <td>0.000000</td>\n",
              "      <td>1500</td>\n",
              "      <td>1</td>\n",
              "      <td>1</td>\n",
              "      <td>0</td>\n",
              "    </tr>\n",
              "    <tr>\n",
              "      <th>3</th>\n",
              "      <td>http://mashable.com/2013/01/07/astronaut-notre...</td>\n",
              "      <td>731.0</td>\n",
              "      <td>9.0</td>\n",
              "      <td>531.0</td>\n",
              "      <td>0.503788</td>\n",
              "      <td>1.0</td>\n",
              "      <td>0.665635</td>\n",
              "      <td>9.0</td>\n",
              "      <td>0.0</td>\n",
              "      <td>1.0</td>\n",
              "      <td>...</td>\n",
              "      <td>-0.600</td>\n",
              "      <td>-0.166667</td>\n",
              "      <td>0.000000</td>\n",
              "      <td>0.000000</td>\n",
              "      <td>0.500000</td>\n",
              "      <td>0.000000</td>\n",
              "      <td>1200</td>\n",
              "      <td>1</td>\n",
              "      <td>1</td>\n",
              "      <td>1</td>\n",
              "    </tr>\n",
              "    <tr>\n",
              "      <th>4</th>\n",
              "      <td>http://mashable.com/2013/01/07/att-u-verse-apps/</td>\n",
              "      <td>731.0</td>\n",
              "      <td>13.0</td>\n",
              "      <td>1072.0</td>\n",
              "      <td>0.415646</td>\n",
              "      <td>1.0</td>\n",
              "      <td>0.540890</td>\n",
              "      <td>19.0</td>\n",
              "      <td>19.0</td>\n",
              "      <td>20.0</td>\n",
              "      <td>...</td>\n",
              "      <td>-0.500</td>\n",
              "      <td>-0.050000</td>\n",
              "      <td>0.454545</td>\n",
              "      <td>0.136364</td>\n",
              "      <td>0.045455</td>\n",
              "      <td>0.136364</td>\n",
              "      <td>505</td>\n",
              "      <td>1</td>\n",
              "      <td>1</td>\n",
              "      <td>5</td>\n",
              "    </tr>\n",
              "  </tbody>\n",
              "</table>\n",
              "<p>5 rows × 64 columns</p>\n",
              "</div>\n",
              "      <button class=\"colab-df-convert\" onclick=\"convertToInteractive('df-f637caaf-ba7c-47de-bec5-179bf8452ea7')\"\n",
              "              title=\"Convert this dataframe to an interactive table.\"\n",
              "              style=\"display:none;\">\n",
              "        \n",
              "  <svg xmlns=\"http://www.w3.org/2000/svg\" height=\"24px\"viewBox=\"0 0 24 24\"\n",
              "       width=\"24px\">\n",
              "    <path d=\"M0 0h24v24H0V0z\" fill=\"none\"/>\n",
              "    <path d=\"M18.56 5.44l.94 2.06.94-2.06 2.06-.94-2.06-.94-.94-2.06-.94 2.06-2.06.94zm-11 1L8.5 8.5l.94-2.06 2.06-.94-2.06-.94L8.5 2.5l-.94 2.06-2.06.94zm10 10l.94 2.06.94-2.06 2.06-.94-2.06-.94-.94-2.06-.94 2.06-2.06.94z\"/><path d=\"M17.41 7.96l-1.37-1.37c-.4-.4-.92-.59-1.43-.59-.52 0-1.04.2-1.43.59L10.3 9.45l-7.72 7.72c-.78.78-.78 2.05 0 2.83L4 21.41c.39.39.9.59 1.41.59.51 0 1.02-.2 1.41-.59l7.78-7.78 2.81-2.81c.8-.78.8-2.07 0-2.86zM5.41 20L4 18.59l7.72-7.72 1.47 1.35L5.41 20z\"/>\n",
              "  </svg>\n",
              "      </button>\n",
              "      \n",
              "  <style>\n",
              "    .colab-df-container {\n",
              "      display:flex;\n",
              "      flex-wrap:wrap;\n",
              "      gap: 12px;\n",
              "    }\n",
              "\n",
              "    .colab-df-convert {\n",
              "      background-color: #E8F0FE;\n",
              "      border: none;\n",
              "      border-radius: 50%;\n",
              "      cursor: pointer;\n",
              "      display: none;\n",
              "      fill: #1967D2;\n",
              "      height: 32px;\n",
              "      padding: 0 0 0 0;\n",
              "      width: 32px;\n",
              "    }\n",
              "\n",
              "    .colab-df-convert:hover {\n",
              "      background-color: #E2EBFA;\n",
              "      box-shadow: 0px 1px 2px rgba(60, 64, 67, 0.3), 0px 1px 3px 1px rgba(60, 64, 67, 0.15);\n",
              "      fill: #174EA6;\n",
              "    }\n",
              "\n",
              "    [theme=dark] .colab-df-convert {\n",
              "      background-color: #3B4455;\n",
              "      fill: #D2E3FC;\n",
              "    }\n",
              "\n",
              "    [theme=dark] .colab-df-convert:hover {\n",
              "      background-color: #434B5C;\n",
              "      box-shadow: 0px 1px 3px 1px rgba(0, 0, 0, 0.15);\n",
              "      filter: drop-shadow(0px 1px 2px rgba(0, 0, 0, 0.3));\n",
              "      fill: #FFFFFF;\n",
              "    }\n",
              "  </style>\n",
              "\n",
              "      <script>\n",
              "        const buttonEl =\n",
              "          document.querySelector('#df-f637caaf-ba7c-47de-bec5-179bf8452ea7 button.colab-df-convert');\n",
              "        buttonEl.style.display =\n",
              "          google.colab.kernel.accessAllowed ? 'block' : 'none';\n",
              "\n",
              "        async function convertToInteractive(key) {\n",
              "          const element = document.querySelector('#df-f637caaf-ba7c-47de-bec5-179bf8452ea7');\n",
              "          const dataTable =\n",
              "            await google.colab.kernel.invokeFunction('convertToInteractive',\n",
              "                                                     [key], {});\n",
              "          if (!dataTable) return;\n",
              "\n",
              "          const docLinkHtml = 'Like what you see? Visit the ' +\n",
              "            '<a target=\"_blank\" href=https://colab.research.google.com/notebooks/data_table.ipynb>data table notebook</a>'\n",
              "            + ' to learn more about interactive tables.';\n",
              "          element.innerHTML = '';\n",
              "          dataTable['output_type'] = 'display_data';\n",
              "          await google.colab.output.renderOutput(dataTable, element);\n",
              "          const docLink = document.createElement('div');\n",
              "          docLink.innerHTML = docLinkHtml;\n",
              "          element.appendChild(docLink);\n",
              "        }\n",
              "      </script>\n",
              "    </div>\n",
              "  </div>\n",
              "  "
            ]
          },
          "metadata": {},
          "execution_count": 23
        }
      ],
      "source": [
        "# Creating LabelEncoder\n",
        "le = preprocessing.LabelEncoder()\n",
        "\n",
        "# Converting string labels into numbers.\n",
        "df.weekday=le.fit_transform(df.weekday)\n",
        "df.data_channel=le.fit_transform(df.data_channel)\n",
        "df.head()"
      ]
    },
    {
      "cell_type": "markdown",
      "metadata": {
        "id": "dKhQ6M8yAIUj"
      },
      "source": [
        "### Step 2: Split the dataset into a training set(70%) and a  test set(30%)"
      ]
    },
    {
      "cell_type": "code",
      "execution_count": null,
      "metadata": {
        "scrolled": false,
        "id": "V1a-lwQLAIUk"
      },
      "outputs": [],
      "source": [
        "# Splitting the Dataset into Training and Testing Dataset\n",
        "X=df[['n_tokens_title', 'n_tokens_content', 'n_unique_tokens', 'n_non_stop_words', 'n_non_stop_unique_tokens',\n",
        "      'num_hrefs', 'num_self_hrefs', 'num_imgs', 'num_videos', 'average_token_length', 'num_keywords', 'kw_min_min',\n",
        "      'kw_max_min', 'kw_avg_min', 'kw_min_max', 'kw_max_max', 'kw_avg_max', 'kw_min_avg', 'kw_max_avg', 'data_channel',\n",
        "      'weekday', 'kw_avg_avg', 'self_reference_min_shares', 'self_reference_max_shares', 'self_reference_avg_sharess',\n",
        "      'weekday', 'is_weekend', 'lda_00', 'lda_01', 'lda_02', 'lda_03', 'lda_04', 'global_subjectivity',\n",
        "      'global_sentiment_polarity', 'global_rate_positive_words', 'global_rate_negative_words', 'rate_positive_words',\n",
        "      'rate_negative_words', 'avg_positive_polarity', 'min_positive_polarity', 'max_positive_polarity',\n",
        "      'avg_negative_polarity', 'min_negative_polarity', 'max_negative_polarity', 'title_subjectivity',\n",
        "      'title_sentiment_polarity', 'abs_title_subjectivity', 'abs_title_sentiment_polarity']]\n",
        "y=df['shares_levels']\n",
        "\n",
        "# Split dataset into training set and test set into 70% training and 30% test\n",
        "X_train, X_test, y_train, y_test = train_test_split(X, y, test_size=0.3) "
      ]
    },
    {
      "cell_type": "markdown",
      "metadata": {
        "id": "vQCuqXd4AIUk"
      },
      "source": [
        "### Step 3: Feature Scaling"
      ]
    },
    {
      "cell_type": "code",
      "execution_count": null,
      "metadata": {
        "id": "mi8wFmwLAIUk"
      },
      "outputs": [],
      "source": [
        "# Feature Scaling\n",
        "sc = StandardScaler()\n",
        "X_train = sc.fit_transform(X_train)\n",
        "X_test = sc.transform(X_test)"
      ]
    },
    {
      "cell_type": "markdown",
      "metadata": {
        "id": "qhBeQVpdAIUl"
      },
      "source": [
        "### Step 4: Build the model"
      ]
    },
    {
      "cell_type": "code",
      "execution_count": null,
      "metadata": {
        "id": "eYpK95YaAIUl"
      },
      "outputs": [],
      "source": [
        "# Creating a Random Forest Classifier Model with 100 trees(default)\n",
        "clf=RandomForestClassifier(n_estimators=100)\n",
        "\n",
        "# Train the model using the training sets y_pred=clf.predict(X_test)\n",
        "clf.fit(X_train,y_train)\n",
        "\n",
        "y_pred=clf.predict(X_test)"
      ]
    },
    {
      "cell_type": "markdown",
      "metadata": {
        "id": "jjIITGW-AIUl"
      },
      "source": [
        "### Step 5: Test the model"
      ]
    },
    {
      "cell_type": "code",
      "execution_count": null,
      "metadata": {
        "scrolled": false,
        "colab": {
          "base_uri": "https://localhost:8080/"
        },
        "id": "fCHx1XlBAIUl",
        "outputId": "1b9b782f-25b3-4094-c061-6735b4260e6d"
      },
      "outputs": [
        {
          "output_type": "stream",
          "name": "stdout",
          "text": [
            "Accuracy :  0.821170337985539\n"
          ]
        }
      ],
      "source": [
        "# Model Accuracy Calculation\n",
        "print(\"Accuracy : \",metrics.accuracy_score(y_test, y_pred))"
      ]
    },
    {
      "cell_type": "code",
      "execution_count": null,
      "metadata": {
        "scrolled": true,
        "colab": {
          "base_uri": "https://localhost:8080/",
          "height": 296
        },
        "id": "6j9cRgD4AIUl",
        "outputId": "15ee7845-c97d-4e1e-9967-1ff78e0584a1"
      },
      "outputs": [
        {
          "output_type": "display_data",
          "data": {
            "text/plain": [
              "<Figure size 432x288 with 1 Axes>"
            ],
            "image/png": "[encoded data removed]"
          },
          "metadata": {
            "needs_background": "light"
          }
        }
      ],
      "source": [
        "# Try different numbers of n_estimators\n",
        "estimators = np.arange(40, 400, 20)\n",
        "accuracy = []\n",
        "\n",
        "for n in estimators:\n",
        "    clf.set_params(n_estimators=n)\n",
        "    clf.fit(X_train, y_train)\n",
        "    y_pred=clf.predict(X_test)\n",
        "    accuracy.append(metrics.accuracy_score(y_test, y_pred))\n",
        "plt.title(\"Effect of n_estimators\")\n",
        "plt.xlabel(\"n_estimator\")\n",
        "plt.ylabel(\"accuracy\")\n",
        "plt.plot(estimators, accuracy)"
      ]
    },
    {
      "cell_type": "markdown",
      "metadata": {
        "id": "cc7oyqEmAIUl"
      },
      "source": [
        "It seems like the optimal number of estimators is around 120 and we will get an accuracy of nearly 83%."
      ]
    },
    {
      "cell_type": "markdown",
      "metadata": {
        "id": "0Sya61bDAIUm"
      },
      "source": [
        "# Optimizing the accuracy"
      ]
    },
    {
      "cell_type": "markdown",
      "metadata": {
        "id": "fyK5Id7kAIUm"
      },
      "source": [
        "### 1. Find out which accuracy is higher, using one hot encoding or not using it?"
      ]
    },
    {
      "cell_type": "code",
      "execution_count": null,
      "metadata": {
        "id": "E_AUjdvkAIUm"
      },
      "outputs": [],
      "source": [
        "# Here, we are not using the combined columns, data_channel and weekday. \n",
        "# Instead, we use the one-hot encoding version of each feature.\n",
        "X=df[['n_tokens_title', 'n_tokens_content', 'n_unique_tokens', 'n_non_stop_words', 'n_non_stop_unique_tokens',\n",
        "      'num_hrefs', 'num_self_hrefs', 'num_imgs', 'num_videos', 'average_token_length', 'num_keywords', 'kw_min_min',\n",
        "      'kw_max_min', 'kw_avg_min', 'kw_min_max', 'kw_max_max', 'kw_avg_max', 'kw_min_avg', 'kw_max_avg', \n",
        "      'data_channel_is_lifestyle', 'data_channel_is_entertainment', 'data_channel_is_bus', 'data_channel_is_socmed',\n",
        "      'data_channel_is_tech', 'data_channel_is_world', 'weekday_is_monday', 'weekday_is_tuesday', 'weekday_is_wednesday',\n",
        "      'weekday_is_thursday', 'weekday_is_friday', 'weekday_is_saturday', 'weekday_is_sunday', 'kw_avg_avg',\n",
        "      'self_reference_min_shares', 'self_reference_max_shares', 'self_reference_avg_sharess', 'weekday', 'is_weekend',\n",
        "      'lda_00', 'lda_01', 'lda_02', 'lda_03', 'lda_04', 'global_subjectivity', 'global_sentiment_polarity',\n",
        "      'global_rate_positive_words', 'global_rate_negative_words', 'rate_positive_words','rate_negative_words',\n",
        "      'avg_positive_polarity', 'min_positive_polarity', 'max_positive_polarity', 'avg_negative_polarity',\n",
        "      'min_negative_polarity', 'max_negative_polarity', 'title_subjectivity', 'title_sentiment_polarity',\n",
        "      'abs_title_subjectivity', 'abs_title_sentiment_polarity']]\n",
        "y=df['shares_levels']\n",
        "\n",
        "# Split dataset into training set and test set into 70% training and 30% test\n",
        "X_train, X_test, y_train, y_test = train_test_split(X, y, test_size=0.3) \n",
        "\n",
        "# Feature Scaling\n",
        "sc = StandardScaler()\n",
        "X_train = sc.fit_transform(X_train)\n",
        "X_test = sc.transform(X_test)\n",
        "\n",
        "#Create a Random Forest Classifier with 100 trees(default)\n",
        "clf2=RandomForestClassifier(n_estimators=100)\n",
        "\n",
        "#Train the model using the training sets y_pred=clf.predict(X_test)\n",
        "clf2.fit(X_train,y_train)\n",
        "\n",
        "y_pred=clf2.predict(X_test)"
      ]
    },
    {
      "cell_type": "code",
      "execution_count": null,
      "metadata": {
        "id": "YWKEncl6AIUn"
      },
      "outputs": [],
      "source": [
        "# calculate the accuracy using one_hot_encoding in different sizes of estimators.\n",
        "estimators = np.arange(40, 400, 20)\n",
        "accuracy_one_hot_encoding = []\n",
        "\n",
        "for n in estimators:\n",
        "    clf2.set_params(n_estimators=n)\n",
        "    clf2.fit(X_train, y_train)\n",
        "    y_pred=clf2.predict(X_test)\n",
        "    accuracy_one_hot_encoding.append(metrics.accuracy_score(y_test, y_pred))"
      ]
    },
    {
      "cell_type": "code",
      "execution_count": null,
      "metadata": {
        "id": "xgouiKKNAIUo"
      },
      "outputs": [],
      "source": [
        "# line 1: Accuracy without using One-Hot Encoding\n",
        "x1 = estimators\n",
        "y1 = accuracy\n",
        "# plotting the line 1 points \n",
        "plt.plot(x1, y1, label = \"No One-Hot Encoding\")\n",
        "# line 1: Accuracy using One-Hot Encoding\n",
        "x2 = estimators\n",
        "y2 = accuracy_one_hot_encoding\n",
        "# plotting the line 2 points \n",
        "plt.plot(x2, y2, label = \"One-Hot Encoding\")\n",
        "plt.xlabel('n_estimator')\n",
        "# Set the y axis label of the current axis.\n",
        "plt.ylabel('accuracy')\n",
        "# Set a title of the current axes.\n",
        "plt.title('One-Hot Encoding vs. No One-Hot Encoding')\n",
        "# show a legend on the plot\n",
        "plt.legend()\n",
        "# Display a figure.\n",
        "plt.show()"
      ]
    },
    {
      "cell_type": "markdown",
      "metadata": {
        "id": "4INPkZ-FAIUo"
      },
      "source": [
        "It shows that the one using one-hot encoding got slightly better result, nearly 0.4% higher."
      ]
    },
    {
      "cell_type": "markdown",
      "metadata": {
        "id": "IlxPrB6OAIUp"
      },
      "source": [
        "### 2. Find out which variable is noise to the dependant variable? Drop them to see if accuracy increases."
      ]
    },
    {
      "cell_type": "code",
      "execution_count": null,
      "metadata": {
        "scrolled": false,
        "id": "HVvEFcfvAIUp",
        "colab": {
          "base_uri": "https://localhost:8080/"
        },
        "outputId": "a0916260-8ce6-4ab6-9b89-cbf4d475352a"
      },
      "outputs": [
        {
          "output_type": "execute_result",
          "data": {
            "text/plain": [
              "kw_avg_avg                      0.042737\n",
              "kw_max_avg                      0.040273\n",
              "kw_avg_max                      0.030917\n",
              "lda_03                          0.030520\n",
              "kw_avg_min                      0.030029\n",
              "lda_02                          0.029792\n",
              "lda_00                          0.029526\n",
              "lda_04                          0.029026\n",
              "lda_01                          0.028915\n",
              "average_token_length            0.028701\n",
              "self_reference_min_shares       0.028631\n",
              "global_subjectivity             0.028609\n",
              "kw_max_min                      0.027864\n",
              "self_reference_avg_sharess      0.027849\n",
              "avg_positive_polarity           0.027766\n",
              "n_unique_tokens                 0.027377\n",
              "n_tokens_content                0.027078\n",
              "n_non_stop_unique_tokens        0.026858\n",
              "global_rate_positive_words      0.025299\n",
              "global_sentiment_polarity       0.025112\n",
              "avg_negative_polarity           0.024193\n",
              "self_reference_max_shares       0.024173\n",
              "num_hrefs                       0.023682\n",
              "kw_min_avg                      0.023494\n",
              "global_rate_negative_words      0.023330\n",
              "rate_negative_words             0.020655\n",
              "rate_positive_words             0.020504\n",
              "n_tokens_title                  0.018574\n",
              "kw_min_max                      0.017444\n",
              "title_sentiment_polarity        0.017398\n",
              "num_imgs                        0.016325\n",
              "max_negative_polarity           0.015073\n",
              "min_negative_polarity           0.014720\n",
              "num_self_hrefs                  0.014667\n",
              "title_subjectivity              0.014317\n",
              "abs_title_sentiment_polarity    0.014057\n",
              "abs_title_subjectivity          0.012313\n",
              "min_positive_polarity           0.012051\n",
              "weekday                         0.011330\n",
              "weekday                         0.011211\n",
              "num_keywords                    0.010999\n",
              "data_channel                    0.010785\n",
              "max_positive_polarity           0.010499\n",
              "num_videos                      0.009679\n",
              "kw_max_max                      0.006222\n",
              "kw_min_min                      0.005220\n",
              "is_weekend                      0.004069\n",
              "n_non_stop_words                0.000137\n",
              "dtype: float64"
            ]
          },
          "metadata": {},
          "execution_count": 32
        }
      ],
      "source": [
        "feature_imp = pd.Series(clf.feature_importances_, \n",
        "index = ['n_tokens_title', 'n_tokens_content',\n",
        "       'n_unique_tokens', 'n_non_stop_words', 'n_non_stop_unique_tokens',\n",
        "       'num_hrefs', 'num_self_hrefs', 'num_imgs', 'num_videos',\n",
        "       'average_token_length', 'num_keywords', 'kw_min_min', 'kw_max_min', 'kw_avg_min',\n",
        "       'kw_min_max', 'kw_max_max', 'kw_avg_max', 'kw_min_avg', 'kw_max_avg', \n",
        "        'data_channel', 'weekday',\n",
        "       'kw_avg_avg', 'self_reference_min_shares', 'self_reference_max_shares',\n",
        "       'self_reference_avg_sharess', 'weekday', 'is_weekend', 'lda_00',\n",
        "       'lda_01', 'lda_02', 'lda_03', 'lda_04', 'global_subjectivity',\n",
        "       'global_sentiment_polarity', 'global_rate_positive_words',\n",
        "       'global_rate_negative_words', 'rate_positive_words',\n",
        "       'rate_negative_words', 'avg_positive_polarity', 'min_positive_polarity',\n",
        "       'max_positive_polarity', 'avg_negative_polarity',\n",
        "       'min_negative_polarity', 'max_negative_polarity', 'title_subjectivity',\n",
        "       'title_sentiment_polarity', 'abs_title_subjectivity',\n",
        "      'abs_title_sentiment_polarity']).sort_values(ascending=False)\n",
        "# index variables(features)\n",
        "\n",
        "feature_imp"
      ]
    },
    {
      "cell_type": "code",
      "execution_count": null,
      "metadata": {
        "id": "instShJOAIUp",
        "colab": {
          "base_uri": "https://localhost:8080/"
        },
        "outputId": "0d029432-4adf-4a3e-d24b-898640d6633b"
      },
      "outputs": [
        {
          "output_type": "execute_result",
          "data": {
            "text/plain": [
              "Index(['kw_avg_avg', 'kw_max_avg', 'kw_avg_max', 'lda_03', 'kw_avg_min',\n",
              "       'lda_02', 'lda_00', 'lda_04', 'lda_01', 'average_token_length',\n",
              "       'self_reference_min_shares', 'global_subjectivity', 'kw_max_min',\n",
              "       'self_reference_avg_sharess', 'avg_positive_polarity',\n",
              "       'n_unique_tokens', 'n_tokens_content', 'n_non_stop_unique_tokens',\n",
              "       'global_rate_positive_words', 'global_sentiment_polarity',\n",
              "       'avg_negative_polarity', 'self_reference_max_shares', 'num_hrefs',\n",
              "       'kw_min_avg', 'global_rate_negative_words', 'rate_negative_words',\n",
              "       'rate_positive_words', 'n_tokens_title', 'kw_min_max',\n",
              "       'title_sentiment_polarity', 'num_imgs', 'max_negative_polarity',\n",
              "       'min_negative_polarity', 'num_self_hrefs', 'title_subjectivity',\n",
              "       'abs_title_sentiment_polarity', 'abs_title_subjectivity',\n",
              "       'min_positive_polarity', 'weekday', 'weekday', 'num_keywords',\n",
              "       'data_channel', 'max_positive_polarity', 'num_videos', 'kw_max_max',\n",
              "       'kw_min_min', 'is_weekend', 'n_non_stop_words'],\n",
              "      dtype='object')"
            ]
          },
          "metadata": {},
          "execution_count": 33
        }
      ],
      "source": [
        "feature_imp.index"
      ]
    },
    {
      "cell_type": "markdown",
      "metadata": {
        "id": "Go1TflBEAIUp"
      },
      "source": [
        "Since \"n_non_stop_words\" is the least important variable contributing the number of shares. Thus, we drop it to see if the accracy increases."
      ]
    },
    {
      "cell_type": "code",
      "execution_count": null,
      "metadata": {
        "id": "5jDvCcmeAIUq"
      },
      "outputs": [],
      "source": [
        "X=df[['kw_avg_avg', 'kw_max_avg', 'lda_02', 'lda_01', 'lda_04', 'kw_avg_max',\n",
        "       'kw_avg_min', 'lda_00', 'lda_03', 'average_token_length',\n",
        "       'n_non_stop_unique_tokens', 'global_subjectivity', 'kw_max_min',\n",
        "       'self_reference_min_shares', 'n_unique_tokens',\n",
        "       'global_rate_positive_words', 'avg_positive_polarity',\n",
        "       'global_sentiment_polarity', 'n_tokens_content',\n",
        "       'self_reference_avg_sharess', 'global_rate_negative_words',\n",
        "       'avg_negative_polarity', 'self_reference_max_shares',\n",
        "       'rate_negative_words', 'rate_positive_words', 'num_hrefs', 'kw_min_avg',\n",
        "       'n_tokens_title', 'kw_min_max', 'data_channel',\n",
        "       'title_sentiment_polarity', 'min_negative_polarity',\n",
        "       'max_negative_polarity', 'num_self_hrefs', 'num_imgs',\n",
        "       'title_subjectivity', 'min_positive_polarity', 'abs_title_subjectivity',\n",
        "       'abs_title_sentiment_polarity', 'weekday', 'weekday',\n",
        "       'max_positive_polarity', 'is_weekend', 'num_keywords', 'num_videos',\n",
        "       'kw_max_max', 'kw_min_min']]  # Features\n",
        "y=df['shares_levels']  # Labels\n",
        "\n",
        "\n",
        "# Split dataset into training set and test set\n",
        "X_train, X_test, y_train, y_test = train_test_split(X, y, test_size=0.3) \n",
        "# 70% training and 30% test\n",
        "\n",
        "sc = StandardScaler()\n",
        "X_train = sc.fit_transform(X_train)\n",
        "X_test = sc.transform(X_test)\n",
        "\n",
        "#Create a Random Forest Classifier with 100 trees(default)\n",
        "clf3=RandomForestClassifier(n_estimators=100)\n",
        "clf3.fit(X_train, y_train)\n",
        "y_pred=clf3.predict(X_test)"
      ]
    },
    {
      "cell_type": "code",
      "execution_count": null,
      "metadata": {
        "id": "lKPdWx5-AIUq"
      },
      "outputs": [],
      "source": [
        "# calculate the accuracy using one_hot_encoding in different sizes of estimators.\n",
        "estimators = np.arange(40, 400, 20)\n",
        "accuracy_after_removing_noise = []\n",
        "\n",
        "for n in estimators:\n",
        "    clf3.set_params(n_estimators=n)\n",
        "    clf3.fit(X_train, y_train)\n",
        "    y_pred=clf3.predict(X_test)\n",
        "    accuracy_after_removing_noise.append(metrics.accuracy_score(y_test, y_pred))"
      ]
    },
    {
      "cell_type": "code",
      "execution_count": null,
      "metadata": {
        "id": "7EaV-liSAIUr",
        "colab": {
          "base_uri": "https://localhost:8080/",
          "height": 296
        },
        "outputId": "33aa27d1-3594-485f-d9f5-f4849a85e0d9"
      },
      "outputs": [
        {
          "output_type": "display_data",
          "data": {
            "text/plain": [
              "<Figure size 432x288 with 1 Axes>"
            ],
            "image/png": "[encoded data removed]"
          },
          "metadata": {
            "needs_background": "light"
          }
        }
      ],
      "source": [
        "# line 1: Accuracy without using One-Hot Encoding\n",
        "x1 = estimators\n",
        "y1 = accuracy\n",
        "# plotting the line 1 points \n",
        "plt.plot(x1, y1, label = \"Before removing noise\")\n",
        "# line 1: Accuracy using One-Hot Encoding\n",
        "x2 = estimators\n",
        "y2 = accuracy_after_removing_noise\n",
        "# plotting the line 2 points \n",
        "plt.plot(x2, y2, label = \"After removing noise\")\n",
        "plt.xlabel('n_estimator')\n",
        "# Set the y axis label of the current axis.\n",
        "plt.ylabel('accuracy')\n",
        "# Set a title of the current axes.\n",
        "plt.title('Before vs. After')\n",
        "# show a legend on the plot\n",
        "plt.legend()\n",
        "# Display a figure.\n",
        "plt.show()"
      ]
    },
    {
      "cell_type": "markdown",
      "metadata": {
        "id": "tet0dOpvAIUr"
      },
      "source": [
        "After removing the noisy variables, it increase the accuracy slightly."
      ]
    },
    {
      "cell_type": "markdown",
      "metadata": {
        "id": "93CeuH6SAIUr"
      },
      "source": [
        "### Random Forest Model has an accuracy of 82.2%"
      ]
    }
  ],
  "metadata": {
    "kernelspec": {
      "display_name": "Python 3 (ipykernel)",
      "language": "python",
      "name": "python3"
    },
    "language_info": {
      "codemirror_mode": {
        "name": "ipython",
        "version": 3
      },
      "file_extension": ".py",
      "mimetype": "text/x-python",
      "name": "python",
      "nbconvert_exporter": "python",
      "pygments_lexer": "ipython3",
      "version": "3.9.12"
    },
    "colab": {
      "provenance": []
    }
  },
  "nbformat": 4,
  "nbformat_minor": 0
}